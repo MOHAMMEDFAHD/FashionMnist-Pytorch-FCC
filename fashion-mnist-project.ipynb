{
  "nbformat": 4,
  "nbformat_minor": 0,
  "metadata": {
    "colab": {
      "provenance": []
    },
    "kernelspec": {
      "name": "python3",
      "display_name": "Python 3"
    },
    "language_info": {
      "name": "python"
    },
    
        "83ef123b2d2f445e94a42be4a5a9e614": {
          "model_module": "@jupyter-widgets/controls",
          "model_name": "HTMLModel",
          "model_module_version": "1.5.0",
          "state": {
            "_dom_classes": [],
            "_model_module": "@jupyter-widgets/controls",
            "_model_module_version": "1.5.0",
            "_model_name": "HTMLModel",
            "_view_count": null,
            "_view_module": "@jupyter-widgets/controls",
            "_view_module_version": "1.5.0",
            "_view_name": "HTMLView",
            "description": "",
            "description_tooltip": null,
            "layout": "IPY_MODEL_157f882f05ed4b94a5722b83d3d5b663",
            "placeholder": "​",
            "style": "IPY_MODEL_eb5f5f849c544cceb7724d1ec2c3e0fe",
            "value": "100%"
          }
        },
        "347397abcde047ae8fe4257fd3218b71": {
          "model_module": "@jupyter-widgets/controls",
          "model_name": "FloatProgressModel",
          "model_module_version": "1.5.0",
          "state": {
            "_dom_classes": [],
            "_model_module": "@jupyter-widgets/controls",
            "_model_module_version": "1.5.0",
            "_model_name": "FloatProgressModel",
            "_view_count": null,
            "_view_module": "@jupyter-widgets/controls",
            "_view_module_version": "1.5.0",
            "_view_name": "ProgressView",
            "bar_style": "success",
            "description": "",
            "description_tooltip": null,
            "layout": "IPY_MODEL_4ffbbc0058e5447bac19f991eb162df8",
            "max": 3,
            "min": 0,
            "orientation": "horizontal",
            "style": "IPY_MODEL_57ecf84976524ec6b8d9fa09d3665732",
            "value": 3
          }
        },
        "81c572a736cb47b6959fbb81f6d692fc": {
          "model_module": "@jupyter-widgets/controls",
          "model_name": "HTMLModel",
          "model_module_version": "1.5.0",
          "state": {
            "_dom_classes": [],
            "_model_module": "@jupyter-widgets/controls",
            "_model_module_version": "1.5.0",
            "_model_name": "HTMLModel",
            "_view_count": null,
            "_view_module": "@jupyter-widgets/controls",
            "_view_module_version": "1.5.0",
            "_view_name": "HTMLView",
            "description": "",
            "description_tooltip": null,
            "layout": "IPY_MODEL_22b3b79c64ff4966b1423eca552f8204",
            "placeholder": "​",
            "style": "IPY_MODEL_c95441689f184e45bc47e13eee4e88bc",
            "value": " 3/3 [00:34&lt;00:00, 11.58s/it]"
          }
        },
        "88ba757abb9248dda54324c19da545b6": {
          "model_module": "@jupyter-widgets/base",
          "model_name": "LayoutModel",
          "model_module_version": "1.2.0",
          "state": {
            "_model_module": "@jupyter-widgets/base",
            "_model_module_version": "1.2.0",
            "_model_name": "LayoutModel",
            "_view_count": null,
            "_view_module": "@jupyter-widgets/base",
            "_view_module_version": "1.2.0",
            "_view_name": "LayoutView",
            "align_content": null,
            "align_items": null,
            "align_self": null,
            "border": null,
            "bottom": null,
            "display": null,
            "flex": null,
            "flex_flow": null,
            "grid_area": null,
            "grid_auto_columns": null,
            "grid_auto_flow": null,
            "grid_auto_rows": null,
            "grid_column": null,
            "grid_gap": null,
            "grid_row": null,
            "grid_template_areas": null,
            "grid_template_columns": null,
            "grid_template_rows": null,
            "height": null,
            "justify_content": null,
            "justify_items": null,
            "left": null,
            "margin": null,
            "max_height": null,
            "max_width": null,
            "min_height": null,
            "min_width": null,
            "object_fit": null,
            "object_position": null,
            "order": null,
            "overflow": null,
            "overflow_x": null,
            "overflow_y": null,
            "padding": null,
            "right": null,
            "top": null,
            "visibility": null,
            "width": null
          }
        },
        "157f882f05ed4b94a5722b83d3d5b663": {
          "model_module": "@jupyter-widgets/base",
          "model_name": "LayoutModel",
          "model_module_version": "1.2.0",
          "state": {
            "_model_module": "@jupyter-widgets/base",
            "_model_module_version": "1.2.0",
            "_model_name": "LayoutModel",
            "_view_count": null,
            "_view_module": "@jupyter-widgets/base",
            "_view_module_version": "1.2.0",
            "_view_name": "LayoutView",
            "align_content": null,
            "align_items": null,
            "align_self": null,
            "border": null,
            "bottom": null,
            "display": null,
            "flex": null,
            "flex_flow": null,
            "grid_area": null,
            "grid_auto_columns": null,
            "grid_auto_flow": null,
            "grid_auto_rows": null,
            "grid_column": null,
            "grid_gap": null,
            "grid_row": null,
            "grid_template_areas": null,
            "grid_template_columns": null,
            "grid_template_rows": null,
            "height": null,
            "justify_content": null,
            "justify_items": null,
            "left": null,
            "margin": null,
            "max_height": null,
            "max_width": null,
            "min_height": null,
            "min_width": null,
            "object_fit": null,
            "object_position": null,
            "order": null,
            "overflow": null,
            "overflow_x": null,
            "overflow_y": null,
            "padding": null,
            "right": null,
            "top": null,
            "visibility": null,
            "width": null
          }
        },
        "eb5f5f849c544cceb7724d1ec2c3e0fe": {
          "model_module": "@jupyter-widgets/controls",
          "model_name": "DescriptionStyleModel",
          "model_module_version": "1.5.0",
          "state": {
            "_model_module": "@jupyter-widgets/controls",
            "_model_module_version": "1.5.0",
            "_model_name": "DescriptionStyleModel",
            "_view_count": null,
            "_view_module": "@jupyter-widgets/base",
            "_view_module_version": "1.2.0",
            "_view_name": "StyleView",
            "description_width": ""
          }
        },
        "4ffbbc0058e5447bac19f991eb162df8": {
          "model_module": "@jupyter-widgets/base",
          "model_name": "LayoutModel",
          "model_module_version": "1.2.0",
          "state": {
            "_model_module": "@jupyter-widgets/base",
            "_model_module_version": "1.2.0",
            "_model_name": "LayoutModel",
            "_view_count": null,
            "_view_module": "@jupyter-widgets/base",
            "_view_module_version": "1.2.0",
            "_view_name": "LayoutView",
            "align_content": null,
            "align_items": null,
            "align_self": null,
            "border": null,
            "bottom": null,
            "display": null,
            "flex": null,
            "flex_flow": null,
            "grid_area": null,
            "grid_auto_columns": null,
            "grid_auto_flow": null,
            "grid_auto_rows": null,
            "grid_column": null,
            "grid_gap": null,
            "grid_row": null,
            "grid_template_areas": null,
            "grid_template_columns": null,
            "grid_template_rows": null,
            "height": null,
            "justify_content": null,
            "justify_items": null,
            "left": null,
            "margin": null,
            "max_height": null,
            "max_width": null,
            "min_height": null,
            "min_width": null,
            "object_fit": null,
            "object_position": null,
            "order": null,
            "overflow": null,
            "overflow_x": null,
            "overflow_y": null,
            "padding": null,
            "right": null,
            "top": null,
            "visibility": null,
            "width": null
          }
        },
        "57ecf84976524ec6b8d9fa09d3665732": {
          "model_module": "@jupyter-widgets/controls",
          "model_name": "ProgressStyleModel",
          "model_module_version": "1.5.0",
          "state": {
            "_model_module": "@jupyter-widgets/controls",
            "_model_module_version": "1.5.0",
            "_model_name": "ProgressStyleModel",
            "_view_count": null,
            "_view_module": "@jupyter-widgets/base",
            "_view_module_version": "1.2.0",
            "_view_name": "StyleView",
            "bar_color": null,
            "description_width": ""
          }
        },
        "22b3b79c64ff4966b1423eca552f8204": {
          "model_module": "@jupyter-widgets/base",
          "model_name": "LayoutModel",
          "model_module_version": "1.2.0",
          "state": {
            "_model_module": "@jupyter-widgets/base",
            "_model_module_version": "1.2.0",
            "_model_name": "LayoutModel",
            "_view_count": null,
            "_view_module": "@jupyter-widgets/base",
            "_view_module_version": "1.2.0",
            "_view_name": "LayoutView",
            "align_content": null,
            "align_items": null,
            "align_self": null,
            "border": null,
            "bottom": null,
            "display": null,
            "flex": null,
            "flex_flow": null,
            "grid_area": null,
            "grid_auto_columns": null,
            "grid_auto_flow": null,
            "grid_auto_rows": null,
            "grid_column": null,
            "grid_gap": null,
            "grid_row": null,
            "grid_template_areas": null,
            "grid_template_columns": null,
            "grid_template_rows": null,
            "height": null,
            "justify_content": null,
            "justify_items": null,
            "left": null,
            "margin": null,
            "max_height": null,
            "max_width": null,
            "min_height": null,
            "min_width": null,
            "object_fit": null,
            "object_position": null,
            "order": null,
            "overflow": null,
            "overflow_x": null,
            "overflow_y": null,
            "padding": null,
            "right": null,
            "top": null,
            "visibility": null,
            "width": null
          }
        },
        "c95441689f184e45bc47e13eee4e88bc": {
          "model_module": "@jupyter-widgets/controls",
          "model_name": "DescriptionStyleModel",
          "model_module_version": "1.5.0",
          "state": {
            "_model_module": "@jupyter-widgets/controls",
            "_model_module_version": "1.5.0",
            "_model_name": "DescriptionStyleModel",
            "_view_count": null,
            "_view_module": "@jupyter-widgets/base",
            "_view_module_version": "1.2.0",
            "_view_name": "StyleView",
            "description_width": ""
          }
        },
        "a2535ace8fb34017bfa35d737e99aae6": {
          "model_module": "@jupyter-widgets/controls",
          "model_name": "HBoxModel",
          "model_module_version": "1.5.0",
          "state": {
            "_dom_classes": [],
            "_model_module": "@jupyter-widgets/controls",
            "_model_module_version": "1.5.0",
            "_model_name": "HBoxModel",
            "_view_count": null,
            "_view_module": "@jupyter-widgets/controls",
            "_view_module_version": "1.5.0",
            "_view_name": "HBoxView",
            "box_style": "",
            "children": [
              "IPY_MODEL_e938bc777ee6417b83733a43d88f813e",
              "IPY_MODEL_d7a5e5c28b7941b69b8f18fabd7349ae",
              "IPY_MODEL_7ebf5be676724a419b30600d8d593fbb"
            ],
            "layout": "IPY_MODEL_bffb71c8aff64e9086b19cb16bea3e26"
          }
        },
        "e938bc777ee6417b83733a43d88f813e": {
          "model_module": "@jupyter-widgets/controls",
          "model_name": "HTMLModel",
          "model_module_version": "1.5.0",
          "state": {
            "_dom_classes": [],
            "_model_module": "@jupyter-widgets/controls",
            "_model_module_version": "1.5.0",
            "_model_name": "HTMLModel",
            "_view_count": null,
            "_view_module": "@jupyter-widgets/controls",
            "_view_module_version": "1.5.0",
            "_view_name": "HTMLView",
            "description": "",
            "description_tooltip": null,
            "layout": "IPY_MODEL_30f358b5c4954e0eabe6fef15c4025fb",
            "placeholder": "​",
            "style": "IPY_MODEL_55dbd31eca4e4cbda2f469d01238ffd7",
            "value": "Making Predictions...: 100%"
          }
        },
        "d7a5e5c28b7941b69b8f18fabd7349ae": {
          "model_module": "@jupyter-widgets/controls",
          "model_name": "FloatProgressModel",
          "model_module_version": "1.5.0",
          "state": {
            "_dom_classes": [],
            "_model_module": "@jupyter-widgets/controls",
            "_model_module_version": "1.5.0",
            "_model_name": "FloatProgressModel",
            "_view_count": null,
            "_view_module": "@jupyter-widgets/controls",
            "_view_module_version": "1.5.0",
            "_view_name": "ProgressView",
            "bar_style": "success",
            "description": "",
            "description_tooltip": null,
            "layout": "IPY_MODEL_e09336f60f2944ba801d2c4c67643a4c",
            "max": 313,
            "min": 0,
            "orientation": "horizontal",
            "style": "IPY_MODEL_d724420dfedb43dc9eff52f8ee57ae1f",
            "value": 313
          }
        },
        "7ebf5be676724a419b30600d8d593fbb": {
          "model_module": "@jupyter-widgets/controls",
          "model_name": "HTMLModel",
          "model_module_version": "1.5.0",
          "state": {
            "_dom_classes": [],
            "_model_module": "@jupyter-widgets/controls",
            "_model_module_version": "1.5.0",
            "_model_name": "HTMLModel",
            "_view_count": null,
            "_view_module": "@jupyter-widgets/controls",
            "_view_module_version": "1.5.0",
            "_view_name": "HTMLView",
            "description": "",
            "description_tooltip": null,
            "layout": "IPY_MODEL_fb54258d3c96495b99d14f20a79affb7",
            "placeholder": "​",
            "style": "IPY_MODEL_2c55476597f34aa6a907d07092fb4ee1",
            "value": " 313/313 [00:01&lt;00:00, 246.21it/s]"
          }
        },
        "bffb71c8aff64e9086b19cb16bea3e26": {
          "model_module": "@jupyter-widgets/base",
          "model_name": "LayoutModel",
          "model_module_version": "1.2.0",
          "state": {
            "_model_module": "@jupyter-widgets/base",
            "_model_module_version": "1.2.0",
            "_model_name": "LayoutModel",
            "_view_count": null,
            "_view_module": "@jupyter-widgets/base",
            "_view_module_version": "1.2.0",
            "_view_name": "LayoutView",
            "align_content": null,
            "align_items": null,
            "align_self": null,
            "border": null,
            "bottom": null,
            "display": null,
            "flex": null,
            "flex_flow": null,
            "grid_area": null,
            "grid_auto_columns": null,
            "grid_auto_flow": null,
            "grid_auto_rows": null,
            "grid_column": null,
            "grid_gap": null,
            "grid_row": null,
            "grid_template_areas": null,
            "grid_template_columns": null,
            "grid_template_rows": null,
            "height": null,
            "justify_content": null,
            "justify_items": null,
            "left": null,
            "margin": null,
            "max_height": null,
            "max_width": null,
            "min_height": null,
            "min_width": null,
            "object_fit": null,
            "object_position": null,
            "order": null,
            "overflow": null,
            "overflow_x": null,
            "overflow_y": null,
            "padding": null,
            "right": null,
            "top": null,
            "visibility": null,
            "width": null
          }
        },
        "30f358b5c4954e0eabe6fef15c4025fb": {
          "model_module": "@jupyter-widgets/base",
          "model_name": "LayoutModel",
          "model_module_version": "1.2.0",
          "state": {
            "_model_module": "@jupyter-widgets/base",
            "_model_module_version": "1.2.0",
            "_model_name": "LayoutModel",
            "_view_count": null,
            "_view_module": "@jupyter-widgets/base",
            "_view_module_version": "1.2.0",
            "_view_name": "LayoutView",
            "align_content": null,
            "align_items": null,
            "align_self": null,
            "border": null,
            "bottom": null,
            "display": null,
            "flex": null,
            "flex_flow": null,
            "grid_area": null,
            "grid_auto_columns": null,
            "grid_auto_flow": null,
            "grid_auto_rows": null,
            "grid_column": null,
            "grid_gap": null,
            "grid_row": null,
            "grid_template_areas": null,
            "grid_template_columns": null,
            "grid_template_rows": null,
            "height": null,
            "justify_content": null,
            "justify_items": null,
            "left": null,
            "margin": null,
            "max_height": null,
            "max_width": null,
            "min_height": null,
            "min_width": null,
            "object_fit": null,
            "object_position": null,
            "order": null,
            "overflow": null,
            "overflow_x": null,
            "overflow_y": null,
            "padding": null,
            "right": null,
            "top": null,
            "visibility": null,
            "width": null
          }
        },
        "55dbd31eca4e4cbda2f469d01238ffd7": {
          "model_module": "@jupyter-widgets/controls",
          "model_name": "DescriptionStyleModel",
          "model_module_version": "1.5.0",
          "state": {
            "_model_module": "@jupyter-widgets/controls",
            "_model_module_version": "1.5.0",
            "_model_name": "DescriptionStyleModel",
            "_view_count": null,
            "_view_module": "@jupyter-widgets/base",
            "_view_module_version": "1.2.0",
            "_view_name": "StyleView",
            "description_width": ""
          }
        },
        "e09336f60f2944ba801d2c4c67643a4c": {
          "model_module": "@jupyter-widgets/base",
          "model_name": "LayoutModel",
          "model_module_version": "1.2.0",
          "state": {
            "_model_module": "@jupyter-widgets/base",
            "_model_module_version": "1.2.0",
            "_model_name": "LayoutModel",
            "_view_count": null,
            "_view_module": "@jupyter-widgets/base",
            "_view_module_version": "1.2.0",
            "_view_name": "LayoutView",
            "align_content": null,
            "align_items": null,
            "align_self": null,
            "border": null,
            "bottom": null,
            "display": null,
            "flex": null,
            "flex_flow": null,
            "grid_area": null,
            "grid_auto_columns": null,
            "grid_auto_flow": null,
            "grid_auto_rows": null,
            "grid_column": null,
            "grid_gap": null,
            "grid_row": null,
            "grid_template_areas": null,
            "grid_template_columns": null,
            "grid_template_rows": null,
            "height": null,
            "justify_content": null,
            "justify_items": null,
            "left": null,
            "margin": null,
            "max_height": null,
            "max_width": null,
            "min_height": null,
            "min_width": null,
            "object_fit": null,
            "object_position": null,
            "order": null,
            "overflow": null,
            "overflow_x": null,
            "overflow_y": null,
            "padding": null,
            "right": null,
            "top": null,
            "visibility": null,
            "width": null
          }
        },
        "d724420dfedb43dc9eff52f8ee57ae1f": {
          "model_module": "@jupyter-widgets/controls",
          "model_name": "ProgressStyleModel",
          "model_module_version": "1.5.0",
          "state": {
            "_model_module": "@jupyter-widgets/controls",
            "_model_module_version": "1.5.0",
            "_model_name": "ProgressStyleModel",
            "_view_count": null,
            "_view_module": "@jupyter-widgets/base",
            "_view_module_version": "1.2.0",
            "_view_name": "StyleView",
            "bar_color": null,
            "description_width": ""
          }
        },
        "fb54258d3c96495b99d14f20a79affb7": {
          "model_module": "@jupyter-widgets/base",
          "model_name": "LayoutModel",
          "model_module_version": "1.2.0",
          "state": {
            "_model_module": "@jupyter-widgets/base",
            "_model_module_version": "1.2.0",
            "_model_name": "LayoutModel",
            "_view_count": null,
            "_view_module": "@jupyter-widgets/base",
            "_view_module_version": "1.2.0",
            "_view_name": "LayoutView",
            "align_content": null,
            "align_items": null,
            "align_self": null,
            "border": null,
            "bottom": null,
            "display": null,
            "flex": null,
            "flex_flow": null,
            "grid_area": null,
            "grid_auto_columns": null,
            "grid_auto_flow": null,
            "grid_auto_rows": null,
            "grid_column": null,
            "grid_gap": null,
            "grid_row": null,
            "grid_template_areas": null,
            "grid_template_columns": null,
            "grid_template_rows": null,
            "height": null,
            "justify_content": null,
            "justify_items": null,
            "left": null,
            "margin": null,
            "max_height": null,
            "max_width": null,
            "min_height": null,
            "min_width": null,
            "object_fit": null,
            "object_position": null,
            "order": null,
            "overflow": null,
            "overflow_x": null,
            "overflow_y": null,
            "padding": null,
            "right": null,
            "top": null,
            "visibility": null,
            "width": null
          }
        },
        "2c55476597f34aa6a907d07092fb4ee1": {
          "model_module": "@jupyter-widgets/controls",
          "model_name": "DescriptionStyleModel",
          "model_module_version": "1.5.0",
          "state": {
            "_model_module": "@jupyter-widgets/controls",
            "_model_module_version": "1.5.0",
            "_model_name": "DescriptionStyleModel",
            "_view_count": null,
            "_view_module": "@jupyter-widgets/base",
            "_view_module_version": "1.2.0",
            "_view_name": "StyleView",
            "description_width": ""
          }
        }
      }
    }
  },
  "cells": [
    {
      "cell_type": "markdown",
      "source": [
        "# PyTorch Computer Vision Project"
      ],
      "metadata": {
        "id": "RxTnbaB2TRmt"
      }
    },
    {
      "cell_type": "markdown",
      "source": [
        "0. Computer Vision Libraries in PyTorch\n",
        "\n",
        "1. `torchvision` - base domain library for PyTorch computer vision tasks\n",
        "2. `torchvision.datasets` - get datasets and data loading function for computer vision\n",
        "3. `torchvision.models` - get pretrained computer vision models that you can leverate for your own tasks\n",
        "4. `torchvision.transforms` - functions for manipulating your vision (images) to be sutibale for use with an ML model.\n",
        "5. `torch.utils.data.Dataset` - base class for PyTorch datasets.\n",
        "6. `torch.utils.data.DataLoader` - Creates a Python iterabe over a dataset"
      ],
      "metadata": {
        "id": "W4uHyTPtTb5C"
      }
    },
    {
      "cell_type": "code",
      "source": [
        "## 1. Import pytorch\n",
        "import torch\n",
        "from torch import nn\n",
        "\n",
        "# Import torchvision\n",
        "import torchvision\n",
        "from torchvision import datasets\n",
        "from torchvision import transforms\n",
        "from torchvision.transforms import ToTensor\n",
        "\n",
        "# Import matplotlib\n",
        "import matplotlib.pyplot as plt\n",
        "\n",
        "print(torch.__version__)\n",
        "print(torchvision.__version__)"
      ],
      "metadata": {
        "colab": {
          "base_uri": "https://localhost:8080/"
        },
        "id": "L5WkdYqoUNmo",
        "outputId": "d06a3975-6450-4f9e-dd52-51a380683c06"
      },
      "execution_count": null,
      "outputs": [
        {
          "output_type": "stream",
          "name": "stdout",
          "text": [
            "2.6.0+cu124\n",
            "0.21.0+cu124\n"
          ]
        }
      ]
    },
    {
      "cell_type": "markdown",
      "source": [
        "## 2. Getting a dataset"
      ],
      "metadata": {
        "id": "Z70__YaMU7Sc"
      }
    },
    {
      "cell_type": "code",
      "source": [
        "train_data = datasets.FashionMNIST(\n",
        "    root=\"data\", # where to download data to\n",
        "    train=True,\n",
        "    download=True,\n",
        "    transform=ToTensor(),\n",
        "    target_transform=None\n",
        ")\n",
        "\n",
        "test_data = datasets.FashionMNIST(\n",
        "    root=\"data\",\n",
        "    train=False,\n",
        "    download=True,\n",
        "    transform=ToTensor(),\n",
        "    target_transform=None\n",
        ")"
      ],
      "metadata": {
        "colab": {
          "base_uri": "https://localhost:8080/"
        },
        "id": "MdthcRHsVHcb",
        "outputId": "bbb6f522-bf49-4097-9de9-db969ded92d7"
      },
      "execution_count": null,
      "outputs": [
        {
          "output_type": "stream",
          "name": "stderr",
          "text": [
            "100%|██████████| 26.4M/26.4M [00:01<00:00, 16.6MB/s]\n",
            "100%|██████████| 29.5k/29.5k [00:00<00:00, 301kB/s]\n",
            "100%|██████████| 4.42M/4.42M [00:00<00:00, 5.58MB/s]\n",
            "100%|██████████| 5.15k/5.15k [00:00<00:00, 15.0MB/s]\n"
          ]
        }
      ]
    },
    {
      "cell_type": "code",
      "source": [
        "len(train_data)"
      ],
      "metadata": {
        "colab": {
          "base_uri": "https://localhost:8080/"
        },
        "id": "8eZ0KT4GWHQ8",
        "outputId": "cc571668-af9d-4350-e31e-f9a1bca0de7e"
      },
      "execution_count": null,
      "outputs": [
        {
          "output_type": "execute_result",
          "data": {
            "text/plain": [
              "60000"
            ]
          },
          "metadata": {},
          "execution_count": 3
        }
      ]
    },
    {
      "cell_type": "code",
      "source": [
        "len(test_data)"
      ],
      "metadata": {
        "colab": {
          "base_uri": "https://localhost:8080/"
        },
        "id": "Y539aEkXWaKg",
        "outputId": "f4d3ed6e-93f0-40e0-8a84-c694aed50e40"
      },
      "execution_count": null,
      "outputs": [
        {
          "output_type": "execute_result",
          "data": {
            "text/plain": [
              "10000"
            ]
          },
          "metadata": {},
          "execution_count": 4
        }
      ]
    },
    {
      "cell_type": "code",
      "source": [
        "# See the first training sample\n",
        "image, label = train_data[0]\n",
        "image"
      ],
      "metadata": {
        "colab": {
          "base_uri": "https://localhost:8080/"
        },
        "id": "caaNK9WUWcNI",
        "outputId": "f6530d54-80f1-468b-ad07-267f24992b46"
      },
      "execution_count": null,
      "outputs": [
        {
          "output_type": "execute_result",
          "data": {
            "text/plain": [
              "tensor([[[0.0000, 0.0000, 0.0000, 0.0000, 0.0000, 0.0000, 0.0000, 0.0000,\n",
              "          0.0000, 0.0000, 0.0000, 0.0000, 0.0000, 0.0000, 0.0000, 0.0000,\n",
              "          0.0000, 0.0000, 0.0000, 0.0000, 0.0000, 0.0000, 0.0000, 0.0000,\n",
              "          0.0000, 0.0000, 0.0000, 0.0000],\n",
              "         [0.0000, 0.0000, 0.0000, 0.0000, 0.0000, 0.0000, 0.0000, 0.0000,\n",
              "          0.0000, 0.0000, 0.0000, 0.0000, 0.0000, 0.0000, 0.0000, 0.0000,\n",
              "          0.0000, 0.0000, 0.0000, 0.0000, 0.0000, 0.0000, 0.0000, 0.0000,\n",
              "          0.0000, 0.0000, 0.0000, 0.0000],\n",
              "         [0.0000, 0.0000, 0.0000, 0.0000, 0.0000, 0.0000, 0.0000, 0.0000,\n",
              "          0.0000, 0.0000, 0.0000, 0.0000, 0.0000, 0.0000, 0.0000, 0.0000,\n",
              "          0.0000, 0.0000, 0.0000, 0.0000, 0.0000, 0.0000, 0.0000, 0.0000,\n",
              "          0.0000, 0.0000, 0.0000, 0.0000],\n",
              "         [0.0000, 0.0000, 0.0000, 0.0000, 0.0000, 0.0000, 0.0000, 0.0000,\n",
              "          0.0000, 0.0000, 0.0000, 0.0000, 0.0039, 0.0000, 0.0000, 0.0510,\n",
              "          0.2863, 0.0000, 0.0000, 0.0039, 0.0157, 0.0000, 0.0000, 0.0000,\n",
              "          0.0000, 0.0039, 0.0039, 0.0000],\n",
              "         [0.0000, 0.0000, 0.0000, 0.0000, 0.0000, 0.0000, 0.0000, 0.0000,\n",
              "          0.0000, 0.0000, 0.0000, 0.0000, 0.0118, 0.0000, 0.1412, 0.5333,\n",
              "          0.4980, 0.2431, 0.2118, 0.0000, 0.0000, 0.0000, 0.0039, 0.0118,\n",
              "          0.0157, 0.0000, 0.0000, 0.0118],\n",
              "         [0.0000, 0.0000, 0.0000, 0.0000, 0.0000, 0.0000, 0.0000, 0.0000,\n",
              "          0.0000, 0.0000, 0.0000, 0.0000, 0.0235, 0.0000, 0.4000, 0.8000,\n",
              "          0.6902, 0.5255, 0.5647, 0.4824, 0.0902, 0.0000, 0.0000, 0.0000,\n",
              "          0.0000, 0.0471, 0.0392, 0.0000],\n",
              "         [0.0000, 0.0000, 0.0000, 0.0000, 0.0000, 0.0000, 0.0000, 0.0000,\n",
              "          0.0000, 0.0000, 0.0000, 0.0000, 0.0000, 0.0000, 0.6078, 0.9255,\n",
              "          0.8118, 0.6980, 0.4196, 0.6118, 0.6314, 0.4275, 0.2510, 0.0902,\n",
              "          0.3020, 0.5098, 0.2824, 0.0588],\n",
              "         [0.0000, 0.0000, 0.0000, 0.0000, 0.0000, 0.0000, 0.0000, 0.0000,\n",
              "          0.0000, 0.0000, 0.0000, 0.0039, 0.0000, 0.2706, 0.8118, 0.8745,\n",
              "          0.8549, 0.8471, 0.8471, 0.6392, 0.4980, 0.4745, 0.4784, 0.5725,\n",
              "          0.5529, 0.3451, 0.6745, 0.2588],\n",
              "         [0.0000, 0.0000, 0.0000, 0.0000, 0.0000, 0.0000, 0.0000, 0.0000,\n",
              "          0.0000, 0.0039, 0.0039, 0.0039, 0.0000, 0.7843, 0.9098, 0.9098,\n",
              "          0.9137, 0.8980, 0.8745, 0.8745, 0.8431, 0.8353, 0.6431, 0.4980,\n",
              "          0.4824, 0.7686, 0.8980, 0.0000],\n",
              "         [0.0000, 0.0000, 0.0000, 0.0000, 0.0000, 0.0000, 0.0000, 0.0000,\n",
              "          0.0000, 0.0000, 0.0000, 0.0000, 0.0000, 0.7176, 0.8824, 0.8471,\n",
              "          0.8745, 0.8941, 0.9216, 0.8902, 0.8784, 0.8706, 0.8784, 0.8667,\n",
              "          0.8745, 0.9608, 0.6784, 0.0000],\n",
              "         [0.0000, 0.0000, 0.0000, 0.0000, 0.0000, 0.0000, 0.0000, 0.0000,\n",
              "          0.0000, 0.0000, 0.0000, 0.0000, 0.0000, 0.7569, 0.8941, 0.8549,\n",
              "          0.8353, 0.7765, 0.7059, 0.8314, 0.8235, 0.8275, 0.8353, 0.8745,\n",
              "          0.8627, 0.9529, 0.7922, 0.0000],\n",
              "         [0.0000, 0.0000, 0.0000, 0.0000, 0.0000, 0.0000, 0.0000, 0.0000,\n",
              "          0.0000, 0.0039, 0.0118, 0.0000, 0.0471, 0.8588, 0.8627, 0.8314,\n",
              "          0.8549, 0.7529, 0.6627, 0.8902, 0.8157, 0.8549, 0.8784, 0.8314,\n",
              "          0.8863, 0.7725, 0.8196, 0.2039],\n",
              "         [0.0000, 0.0000, 0.0000, 0.0000, 0.0000, 0.0000, 0.0000, 0.0000,\n",
              "          0.0000, 0.0000, 0.0235, 0.0000, 0.3882, 0.9569, 0.8706, 0.8627,\n",
              "          0.8549, 0.7961, 0.7765, 0.8667, 0.8431, 0.8353, 0.8706, 0.8627,\n",
              "          0.9608, 0.4667, 0.6549, 0.2196],\n",
              "         [0.0000, 0.0000, 0.0000, 0.0000, 0.0000, 0.0000, 0.0000, 0.0000,\n",
              "          0.0000, 0.0157, 0.0000, 0.0000, 0.2157, 0.9255, 0.8941, 0.9020,\n",
              "          0.8941, 0.9412, 0.9098, 0.8353, 0.8549, 0.8745, 0.9176, 0.8510,\n",
              "          0.8510, 0.8196, 0.3608, 0.0000],\n",
              "         [0.0000, 0.0000, 0.0039, 0.0157, 0.0235, 0.0275, 0.0078, 0.0000,\n",
              "          0.0000, 0.0000, 0.0000, 0.0000, 0.9294, 0.8863, 0.8510, 0.8745,\n",
              "          0.8706, 0.8588, 0.8706, 0.8667, 0.8471, 0.8745, 0.8980, 0.8431,\n",
              "          0.8549, 1.0000, 0.3020, 0.0000],\n",
              "         [0.0000, 0.0118, 0.0000, 0.0000, 0.0000, 0.0000, 0.0000, 0.0000,\n",
              "          0.0000, 0.2431, 0.5686, 0.8000, 0.8941, 0.8118, 0.8353, 0.8667,\n",
              "          0.8549, 0.8157, 0.8275, 0.8549, 0.8784, 0.8745, 0.8588, 0.8431,\n",
              "          0.8784, 0.9569, 0.6235, 0.0000],\n",
              "         [0.0000, 0.0000, 0.0000, 0.0000, 0.0706, 0.1725, 0.3216, 0.4196,\n",
              "          0.7412, 0.8941, 0.8627, 0.8706, 0.8510, 0.8863, 0.7843, 0.8039,\n",
              "          0.8275, 0.9020, 0.8784, 0.9176, 0.6902, 0.7373, 0.9804, 0.9725,\n",
              "          0.9137, 0.9333, 0.8431, 0.0000],\n",
              "         [0.0000, 0.2235, 0.7333, 0.8157, 0.8784, 0.8667, 0.8784, 0.8157,\n",
              "          0.8000, 0.8392, 0.8157, 0.8196, 0.7843, 0.6235, 0.9608, 0.7569,\n",
              "          0.8078, 0.8745, 1.0000, 1.0000, 0.8667, 0.9176, 0.8667, 0.8275,\n",
              "          0.8627, 0.9098, 0.9647, 0.0000],\n",
              "         [0.0118, 0.7922, 0.8941, 0.8784, 0.8667, 0.8275, 0.8275, 0.8392,\n",
              "          0.8039, 0.8039, 0.8039, 0.8627, 0.9412, 0.3137, 0.5882, 1.0000,\n",
              "          0.8980, 0.8667, 0.7373, 0.6039, 0.7490, 0.8235, 0.8000, 0.8196,\n",
              "          0.8706, 0.8941, 0.8824, 0.0000],\n",
              "         [0.3843, 0.9137, 0.7765, 0.8235, 0.8706, 0.8980, 0.8980, 0.9176,\n",
              "          0.9765, 0.8627, 0.7608, 0.8431, 0.8510, 0.9451, 0.2549, 0.2863,\n",
              "          0.4157, 0.4588, 0.6588, 0.8588, 0.8667, 0.8431, 0.8510, 0.8745,\n",
              "          0.8745, 0.8784, 0.8980, 0.1137],\n",
              "         [0.2941, 0.8000, 0.8314, 0.8000, 0.7569, 0.8039, 0.8275, 0.8824,\n",
              "          0.8471, 0.7255, 0.7725, 0.8078, 0.7765, 0.8353, 0.9412, 0.7647,\n",
              "          0.8902, 0.9608, 0.9373, 0.8745, 0.8549, 0.8314, 0.8196, 0.8706,\n",
              "          0.8627, 0.8667, 0.9020, 0.2627],\n",
              "         [0.1882, 0.7961, 0.7176, 0.7608, 0.8353, 0.7725, 0.7255, 0.7451,\n",
              "          0.7608, 0.7529, 0.7922, 0.8392, 0.8588, 0.8667, 0.8627, 0.9255,\n",
              "          0.8824, 0.8471, 0.7804, 0.8078, 0.7294, 0.7098, 0.6941, 0.6745,\n",
              "          0.7098, 0.8039, 0.8078, 0.4510],\n",
              "         [0.0000, 0.4784, 0.8588, 0.7569, 0.7020, 0.6706, 0.7176, 0.7686,\n",
              "          0.8000, 0.8235, 0.8353, 0.8118, 0.8275, 0.8235, 0.7843, 0.7686,\n",
              "          0.7608, 0.7490, 0.7647, 0.7490, 0.7765, 0.7529, 0.6902, 0.6118,\n",
              "          0.6549, 0.6941, 0.8235, 0.3608],\n",
              "         [0.0000, 0.0000, 0.2902, 0.7412, 0.8314, 0.7490, 0.6863, 0.6745,\n",
              "          0.6863, 0.7098, 0.7255, 0.7373, 0.7412, 0.7373, 0.7569, 0.7765,\n",
              "          0.8000, 0.8196, 0.8235, 0.8235, 0.8275, 0.7373, 0.7373, 0.7608,\n",
              "          0.7529, 0.8471, 0.6667, 0.0000],\n",
              "         [0.0078, 0.0000, 0.0000, 0.0000, 0.2588, 0.7843, 0.8706, 0.9294,\n",
              "          0.9373, 0.9490, 0.9647, 0.9529, 0.9569, 0.8667, 0.8627, 0.7569,\n",
              "          0.7490, 0.7020, 0.7137, 0.7137, 0.7098, 0.6902, 0.6510, 0.6588,\n",
              "          0.3882, 0.2275, 0.0000, 0.0000],\n",
              "         [0.0000, 0.0000, 0.0000, 0.0000, 0.0000, 0.0000, 0.0000, 0.1569,\n",
              "          0.2392, 0.1725, 0.2824, 0.1608, 0.1373, 0.0000, 0.0000, 0.0000,\n",
              "          0.0000, 0.0000, 0.0000, 0.0000, 0.0000, 0.0000, 0.0000, 0.0000,\n",
              "          0.0000, 0.0000, 0.0000, 0.0000],\n",
              "         [0.0000, 0.0000, 0.0000, 0.0000, 0.0000, 0.0000, 0.0000, 0.0000,\n",
              "          0.0000, 0.0000, 0.0000, 0.0000, 0.0000, 0.0000, 0.0000, 0.0000,\n",
              "          0.0000, 0.0000, 0.0000, 0.0000, 0.0000, 0.0000, 0.0000, 0.0000,\n",
              "          0.0000, 0.0000, 0.0000, 0.0000],\n",
              "         [0.0000, 0.0000, 0.0000, 0.0000, 0.0000, 0.0000, 0.0000, 0.0000,\n",
              "          0.0000, 0.0000, 0.0000, 0.0000, 0.0000, 0.0000, 0.0000, 0.0000,\n",
              "          0.0000, 0.0000, 0.0000, 0.0000, 0.0000, 0.0000, 0.0000, 0.0000,\n",
              "          0.0000, 0.0000, 0.0000, 0.0000]]])"
            ]
          },
          "metadata": {},
          "execution_count": 5
        }
      ]
    },
    {
      "cell_type": "code",
      "source": [
        "label"
      ],
      "metadata": {
        "colab": {
          "base_uri": "https://localhost:8080/"
        },
        "id": "s-ZiJrerW6aX",
        "outputId": "a6702843-1fb8-4347-9acc-8aeb51092b14"
      },
      "execution_count": null,
      "outputs": [
        {
          "output_type": "execute_result",
          "data": {
            "text/plain": [
              "9"
            ]
          },
          "metadata": {},
          "execution_count": 6
        }
      ]
    },
    {
      "cell_type": "code",
      "source": [
        "class_names = train_data.classes"
      ],
      "metadata": {
        "id": "bgYIwGT9W9pV"
      },
      "execution_count": null,
      "outputs": []
    },
    {
      "cell_type": "code",
      "source": [
        "class_names[label]"
      ],
      "metadata": {
        "colab": {
          "base_uri": "https://localhost:8080/",
          "height": 36
        },
        "id": "YKD-AIHgXMmU",
        "outputId": "17122047-53b3-48cc-d0e5-1853d84da22b"
      },
      "execution_count": null,
      "outputs": [
        {
          "output_type": "execute_result",
          "data": {
            "text/plain": [
              "'Ankle boot'"
            ],
            "application/vnd.google.colaboratory.intrinsic+json": {
              "type": "string"
            }
          },
          "metadata": {},
          "execution_count": 8
        }
      ]
    },
    {
      "cell_type": "code",
      "source": [
        "image.shape"
      ],
      "metadata": {
        "colab": {
          "base_uri": "https://localhost:8080/"
        },
        "id": "W9PpVBgAXT4G",
        "outputId": "478dfd2b-6f8f-4d5f-face-1a39421a6d9a"
      },
      "execution_count": null,
      "outputs": [
        {
          "output_type": "execute_result",
          "data": {
            "text/plain": [
              "torch.Size([1, 28, 28])"
            ]
          },
          "metadata": {},
          "execution_count": 9
        }
      ]
    },
    {
      "cell_type": "code",
      "source": [
        "plt.imshow(image.squeeze())"
      ],
      "metadata": {
        "colab": {
          "base_uri": "https://localhost:8080/",
          "height": 447
        },
        "id": "HFeAJRguXdZv",
        "outputId": "eacb3e3d-16ca-4fc7-eacd-f31e0a09b42e"
      },
      "execution_count": null,
      "outputs": [
        {
          "output_type": "execute_result",
          "data": {
            "text/plain": [
              "<matplotlib.image.AxesImage at 0x7ca949ea4710>"
            ]
          },
          "metadata": {},
          "execution_count": 10
        },
        {
          "output_type": "display_data",
          "data": {
            "text/plain": [
              "<Figure size 640x480 with 1 Axes>"
            ],
            "image/png": "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\n"
          },
          "metadata": {}
        }
      ]
    },
    {
      "cell_type": "code",
      "source": [
        "plt.imshow(image.squeeze(), cmap=\"gray\");\n",
        "plt.title(class_names[label]);"
      ],
      "metadata": {
        "colab": {
          "base_uri": "https://localhost:8080/",
          "height": 452
        },
        "id": "0NZ7D6BSXq_R",
        "outputId": "e98205d6-d6a3-4a0e-be03-6410ce6c2e0c"
      },
      "execution_count": null,
      "outputs": [
        {
          "output_type": "display_data",
          "data": {
            "text/plain": [
              "<Figure size 640x480 with 1 Axes>"
            ],
            "image/png": "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\n"
          },
          "metadata": {}
        }
      ]
    },
    {
      "cell_type": "code",
      "source": [
        "class_to_idx = train_data.class_to_idx\n",
        "class_to_idx"
      ],
      "metadata": {
        "colab": {
          "base_uri": "https://localhost:8080/"
        },
        "id": "BfWGon15X6bx",
        "outputId": "139d8157-263d-4e35-e456-2a4b4eb1cf61"
      },
      "execution_count": null,
      "outputs": [
        {
          "output_type": "execute_result",
          "data": {
            "text/plain": [
              "{'T-shirt/top': 0,\n",
              " 'Trouser': 1,\n",
              " 'Pullover': 2,\n",
              " 'Dress': 3,\n",
              " 'Coat': 4,\n",
              " 'Sandal': 5,\n",
              " 'Shirt': 6,\n",
              " 'Sneaker': 7,\n",
              " 'Bag': 8,\n",
              " 'Ankle boot': 9}"
            ]
          },
          "metadata": {},
          "execution_count": 12
        }
      ]
    },
    {
      "cell_type": "code",
      "source": [
        "train_data.targets[:100]"
      ],
      "metadata": {
        "colab": {
          "base_uri": "https://localhost:8080/"
        },
        "id": "m9CdjVAFYPQs",
        "outputId": "88e2a191-8948-4bb9-9925-be170c4b4e0f"
      },
      "execution_count": null,
      "outputs": [
        {
          "output_type": "execute_result",
          "data": {
            "text/plain": [
              "tensor([9, 0, 0, 3, 0, 2, 7, 2, 5, 5, 0, 9, 5, 5, 7, 9, 1, 0, 6, 4, 3, 1, 4, 8,\n",
              "        4, 3, 0, 2, 4, 4, 5, 3, 6, 6, 0, 8, 5, 2, 1, 6, 6, 7, 9, 5, 9, 2, 7, 3,\n",
              "        0, 3, 3, 3, 7, 2, 2, 6, 6, 8, 3, 3, 5, 0, 5, 5, 0, 2, 0, 0, 4, 1, 3, 1,\n",
              "        6, 3, 1, 4, 4, 6, 1, 9, 1, 3, 5, 7, 9, 7, 1, 7, 9, 9, 9, 3, 2, 9, 3, 6,\n",
              "        4, 1, 1, 8])"
            ]
          },
          "metadata": {},
          "execution_count": 13
        }
      ]
    },
    {
      "cell_type": "code",
      "source": [
        "len(train_data)"
      ],
      "metadata": {
        "colab": {
          "base_uri": "https://localhost:8080/"
        },
        "id": "J_YMZ0QfYvSs",
        "outputId": "cb458cf6-675c-4ac5-f52c-c0a84ef48aab"
      },
      "execution_count": null,
      "outputs": [
        {
          "output_type": "execute_result",
          "data": {
            "text/plain": [
              "60000"
            ]
          },
          "metadata": {},
          "execution_count": 14
        }
      ]
    },
    {
      "cell_type": "code",
      "source": [
        "torch.randint(0, len(train_data), size=[1]).item()"
      ],
      "metadata": {
        "colab": {
          "base_uri": "https://localhost:8080/"
        },
        "id": "VBteNv19Yyey",
        "outputId": "14b9edfa-23f9-4d03-aa38-5ec21450f4bd"
      },
      "execution_count": null,
      "outputs": [
        {
          "output_type": "execute_result",
          "data": {
            "text/plain": [
              "51863"
            ]
          },
          "metadata": {},
          "execution_count": 15
        }
      ]
    },
    {
      "cell_type": "code",
      "source": [
        "# Plot more images\n",
        "torch.manual_seed(42)\n",
        "fig = plt.figure(figsize=(9, 9))\n",
        "rows, cols = 4, 4\n",
        "for i in range(1, rows*cols+1):\n",
        "    random_idx = torch.randint(0, len(train_data), size=[1]).item()\n",
        "    img, label = train_data[random_idx]\n",
        "    fig.add_subplot(rows, cols, i)\n",
        "    plt.imshow(img.squeeze(), cmap=\"gray\")\n",
        "    plt.title(class_names[label])\n",
        "    plt.axis(False);"
      ],
      "metadata": {
        "colab": {
          "base_uri": "https://localhost:8080/",
          "height": 752
        },
        "id": "mFyoB9IuYYi-",
        "outputId": "a5f669a8-4c7f-401a-e97a-b8e565d5cc6c"
      },
      "execution_count": null,
      "outputs": [
        {
          "output_type": "display_data",
          "data": {
            "text/plain": [
              "<Figure size 900x900 with 16 Axes>"
            ],
            "image/png": "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\n"
          },
          "metadata": {}
        }
      ]
    },
    {
      "cell_type": "markdown",
      "source": [
        "## 3. Prepare a DataLoader\n",
        "\n",
        "Right now, our data is in the form of PyTorch datasets.\n",
        "\n",
        "Specifically, we want to turn (convert) our data into batches (mini-batches).\n",
        "\n",
        "Why would we do this?\n",
        "\n",
        "1. It is more computationlly efficient, as in, your computing hardware my not be able to look at (store in memory) 60000 images in one hit. So we break down to 32 images at a time (batch size of 32)\n",
        "2. It gives our neural network more chances to update its gradients per epoch."
      ],
      "metadata": {
        "id": "iaBBFvnWZtBx"
      }
    },
    {
      "cell_type": "code",
      "source": [
        "train_data"
      ],
      "metadata": {
        "colab": {
          "base_uri": "https://localhost:8080/"
        },
        "id": "m7NQpnHcaRD4",
        "outputId": "8cf7906e-1d57-4e5f-8ea2-d522dad6803e"
      },
      "execution_count": null,
      "outputs": [
        {
          "output_type": "execute_result",
          "data": {
            "text/plain": [
              "Dataset FashionMNIST\n",
              "    Number of datapoints: 60000\n",
              "    Root location: data\n",
              "    Split: Train\n",
              "    StandardTransform\n",
              "Transform: ToTensor()"
            ]
          },
          "metadata": {},
          "execution_count": 17
        }
      ]
    },
    {
      "cell_type": "code",
      "source": [
        "from torch.utils.data import DataLoader\n",
        "\n",
        "# Setup the batch size hyperparameter\n",
        "BATCH_SIZE = 32\n",
        "\n",
        "# Turn dataset into iterables (batches)\n",
        "train_dataloader = DataLoader(train_data,\n",
        "                              batch_size=BATCH_SIZE,\n",
        "                              shuffle=True)\n",
        "\n",
        "test_dataloader = DataLoader(test_data,\n",
        "                             batch_size=BATCH_SIZE,\n",
        "                             shuffle=False)\n",
        "\n",
        "train_dataloader, test_dataloader"
      ],
      "metadata": {
        "colab": {
          "base_uri": "https://localhost:8080/"
        },
        "id": "h41oPNLNbUsE",
        "outputId": "6752b6d6-2798-4019-867f-763533636693"
      },
      "execution_count": null,
      "outputs": [
        {
          "output_type": "execute_result",
          "data": {
            "text/plain": [
              "(<torch.utils.data.dataloader.DataLoader at 0x7ca93e3a2c90>,\n",
              " <torch.utils.data.dataloader.DataLoader at 0x7ca93e5104d0>)"
            ]
          },
          "metadata": {},
          "execution_count": 18
        }
      ]
    },
    {
      "cell_type": "code",
      "source": [
        "# Let's check out what we've created\n",
        "print(f\"DataLoaders: {train_dataloader, test_dataloader}\")\n",
        "print(f\"Length of train_dataloader: {len(train_dataloader)} batches of {BATCH_SIZE}...\")\n",
        "print(f\"Length of test_dataloader: {len(test_dataloader)} batches of {BATCH_SIZE}...\")"
      ],
      "metadata": {
        "colab": {
          "base_uri": "https://localhost:8080/"
        },
        "id": "2XesPKMQc0d8",
        "outputId": "97e17c50-c6ba-4a59-855d-3f9c3cd8160c"
      },
      "execution_count": null,
      "outputs": [
        {
          "output_type": "stream",
          "name": "stdout",
          "text": [
            "DataLoaders: (<torch.utils.data.dataloader.DataLoader object at 0x7ca93e3a2c90>, <torch.utils.data.dataloader.DataLoader object at 0x7ca93e5104d0>)\n",
            "Length of train_dataloader: 1875 batches of 32...\n",
            "Length of test_dataloader: 313 batches of 32...\n"
          ]
        }
      ]
    },
    {
      "cell_type": "code",
      "source": [
        "1875 * 32"
      ],
      "metadata": {
        "colab": {
          "base_uri": "https://localhost:8080/"
        },
        "id": "oQUq1ZvUdX0e",
        "outputId": "cd180003-bb12-4206-edf8-e76725451711"
      },
      "execution_count": null,
      "outputs": [
        {
          "output_type": "execute_result",
          "data": {
            "text/plain": [
              "60000"
            ]
          },
          "metadata": {},
          "execution_count": 20
        }
      ]
    },
    {
      "cell_type": "code",
      "source": [
        "313 * 32"
      ],
      "metadata": {
        "colab": {
          "base_uri": "https://localhost:8080/"
        },
        "id": "B0rfYl3Sdbmv",
        "outputId": "aaba84b0-3936-4203-9f66-1a816240db69"
      },
      "execution_count": null,
      "outputs": [
        {
          "output_type": "execute_result",
          "data": {
            "text/plain": [
              "10016"
            ]
          },
          "metadata": {},
          "execution_count": 21
        }
      ]
    },
    {
      "cell_type": "code",
      "source": [
        "10000 / 32"
      ],
      "metadata": {
        "colab": {
          "base_uri": "https://localhost:8080/"
        },
        "id": "WkyQpY8LdlS2",
        "outputId": "01ca3bbc-8e4f-448c-c44e-d710b70098fa"
      },
      "execution_count": null,
      "outputs": [
        {
          "output_type": "execute_result",
          "data": {
            "text/plain": [
              "312.5"
            ]
          },
          "metadata": {},
          "execution_count": 22
        }
      ]
    },
    {
      "cell_type": "code",
      "source": [
        "batch_images, batch_labels = next(iter(train_dataloader))"
      ],
      "metadata": {
        "id": "1-LaTBXTd1e9"
      },
      "execution_count": null,
      "outputs": []
    },
    {
      "cell_type": "code",
      "source": [
        "batch_images.shape"
      ],
      "metadata": {
        "colab": {
          "base_uri": "https://localhost:8080/"
        },
        "id": "FAhKDGqoeOUh",
        "outputId": "ffe43de5-5112-462a-cbb7-6db70f351c17"
      },
      "execution_count": null,
      "outputs": [
        {
          "output_type": "execute_result",
          "data": {
            "text/plain": [
              "torch.Size([32, 1, 28, 28])"
            ]
          },
          "metadata": {},
          "execution_count": 24
        }
      ]
    },
    {
      "cell_type": "code",
      "source": [
        "batch_labels.shape"
      ],
      "metadata": {
        "colab": {
          "base_uri": "https://localhost:8080/"
        },
        "id": "O-rnqyfXeaW2",
        "outputId": "237c34e1-01fb-4b19-ecdf-231f9bdaea43"
      },
      "execution_count": null,
      "outputs": [
        {
          "output_type": "execute_result",
          "data": {
            "text/plain": [
              "torch.Size([32])"
            ]
          },
          "metadata": {},
          "execution_count": 25
        }
      ]
    },
    {
      "cell_type": "code",
      "source": [
        "len(batch_images)"
      ],
      "metadata": {
        "colab": {
          "base_uri": "https://localhost:8080/"
        },
        "id": "wkA6fpdSexSX",
        "outputId": "057fbac9-b5ff-4f21-d573-0cbf5492c603"
      },
      "execution_count": null,
      "outputs": [
        {
          "output_type": "execute_result",
          "data": {
            "text/plain": [
              "32"
            ]
          },
          "metadata": {},
          "execution_count": 26
        }
      ]
    },
    {
      "cell_type": "code",
      "source": [
        "torch.randint(0, len(batch_images), size=[1]).item()"
      ],
      "metadata": {
        "colab": {
          "base_uri": "https://localhost:8080/"
        },
        "id": "npdjHSuie0ks",
        "outputId": "195f370f-9b94-4a70-8282-482721e813c2"
      },
      "execution_count": null,
      "outputs": [
        {
          "output_type": "execute_result",
          "data": {
            "text/plain": [
              "21"
            ]
          },
          "metadata": {},
          "execution_count": 27
        }
      ]
    },
    {
      "cell_type": "code",
      "source": [
        "class_names"
      ],
      "metadata": {
        "colab": {
          "base_uri": "https://localhost:8080/"
        },
        "id": "foHpHMmNfLVl",
        "outputId": "ca21f834-d688-44c4-e413-68c563b5d85b"
      },
      "execution_count": null,
      "outputs": [
        {
          "output_type": "execute_result",
          "data": {
            "text/plain": [
              "['T-shirt/top',\n",
              " 'Trouser',\n",
              " 'Pullover',\n",
              " 'Dress',\n",
              " 'Coat',\n",
              " 'Sandal',\n",
              " 'Shirt',\n",
              " 'Sneaker',\n",
              " 'Bag',\n",
              " 'Ankle boot']"
            ]
          },
          "metadata": {},
          "execution_count": 28
        }
      ]
    },
    {
      "cell_type": "code",
      "source": [
        "# Visualize one sample from the batch\n",
        "# torch.manual_seed(42)\n",
        "random_idx = torch.randint(0, len(batch_images), size=[1]).item()\n",
        "img, label = batch_images[random_idx], batch_labels[random_idx]\n",
        "plt.imshow(img.squeeze(), cmap=\"gray\")\n",
        "plt.title(class_names[label])\n",
        "plt.axis(\"off\");"
      ],
      "metadata": {
        "colab": {
          "base_uri": "https://localhost:8080/",
          "height": 428
        },
        "id": "DjKzr8cJensC",
        "outputId": "ba80cab7-1e7a-49dc-b515-4438135710ff"
      },
      "execution_count": null,
      "outputs": [
        {
          "output_type": "display_data",
          "data": {
            "text/plain": [
              "<Figure size 640x480 with 1 Axes>"
            ],
            "image/png": "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\n"
          },
          "metadata": {}
        }
      ]
    },
    {
      "cell_type": "markdown",
      "source": [
        "## 4. Model 0: Build a baseline model"
      ],
      "metadata": {
        "id": "NjIVciPifsD7"
      }
    },
    {
      "cell_type": "code",
      "source": [
        "image.shape"
      ],
      "metadata": {
        "colab": {
          "base_uri": "https://localhost:8080/"
        },
        "id": "JW6c26lYgl6t",
        "outputId": "8c79ad5f-03e0-4447-c096-bb3c2603283b"
      },
      "execution_count": null,
      "outputs": [
        {
          "output_type": "execute_result",
          "data": {
            "text/plain": [
              "torch.Size([1, 28, 28])"
            ]
          },
          "metadata": {},
          "execution_count": 30
        }
      ]
    },
    {
      "cell_type": "code",
      "source": [
        "my_flatten_layer = nn.Flatten()\n",
        "\n",
        "my_flatten_layer(image).shape"
      ],
      "metadata": {
        "colab": {
          "base_uri": "https://localhost:8080/"
        },
        "id": "GLoQJaPJgwNI",
        "outputId": "209f9f95-3077-439f-f53e-b4119cd6c551"
      },
      "execution_count": null,
      "outputs": [
        {
          "output_type": "execute_result",
          "data": {
            "text/plain": [
              "torch.Size([1, 784])"
            ]
          },
          "metadata": {},
          "execution_count": 31
        }
      ]
    },
    {
      "cell_type": "code",
      "source": [
        "28 * 28"
      ],
      "metadata": {
        "colab": {
          "base_uri": "https://localhost:8080/"
        },
        "id": "yOUwnFNchBml",
        "outputId": "0adb8dee-c4fb-4b75-e9ff-b06fdcc0e57f"
      },
      "execution_count": null,
      "outputs": [
        {
          "output_type": "execute_result",
          "data": {
            "text/plain": [
              "784"
            ]
          },
          "metadata": {},
          "execution_count": 32
        }
      ]
    },
    {
      "cell_type": "code",
      "source": [
        "plt.imshow(my_flatten_layer(image))"
      ],
      "metadata": {
        "colab": {
          "base_uri": "https://localhost:8080/",
          "height": 83
        },
        "id": "aC8FTWJ5hJen",
        "outputId": "9f3b164b-4645-4b04-a3ce-c4abd76f4186"
      },
      "execution_count": null,
      "outputs": [
        {
          "output_type": "execute_result",
          "data": {
            "text/plain": [
              "<matplotlib.image.AxesImage at 0x7ca93dfb54d0>"
            ]
          },
          "metadata": {},
          "execution_count": 33
        },
        {
          "output_type": "display_data",
          "data": {
            "text/plain": [
              "<Figure size 640x480 with 1 Axes>"
            ],
            "image/png": "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\n"
          },
          "metadata": {}
        }
      ]
    },
    {
      "cell_type": "code",
      "source": [
        "print(f\"Image before flattening {image.shape}\")\n",
        "print(f\"Image after flatting: {my_flatten_layer(image).shape}\")"
      ],
      "metadata": {
        "colab": {
          "base_uri": "https://localhost:8080/"
        },
        "id": "A5D_W7kIhv0I",
        "outputId": "e374f641-c343-490d-877d-9ddab3d1f9ae"
      },
      "execution_count": null,
      "outputs": [
        {
          "output_type": "stream",
          "name": "stdout",
          "text": [
            "Image before flattening torch.Size([1, 28, 28])\n",
            "Image after flatting: torch.Size([1, 784])\n"
          ]
        }
      ]
    },
    {
      "cell_type": "code",
      "source": [
        "len(class_names)"
      ],
      "metadata": {
        "colab": {
          "base_uri": "https://localhost:8080/"
        },
        "id": "qD2NM02XiwKU",
        "outputId": "9adfa9e0-7606-4ca9-8ca9-3f54dad03eac"
      },
      "execution_count": null,
      "outputs": [
        {
          "output_type": "execute_result",
          "data": {
            "text/plain": [
              "10"
            ]
          },
          "metadata": {},
          "execution_count": 35
        }
      ]
    },
    {
      "cell_type": "code",
      "source": [
        "class FashionMNISTModelV0(nn.Module):\n",
        "    def __init__(self,\n",
        "                 input_shape: int,\n",
        "                 hidden_units: int,\n",
        "                 output_shape: int):\n",
        "        super().__init__()\n",
        "\n",
        "        self.layer_stack = nn.Sequential(\n",
        "            nn.Flatten(),\n",
        "            nn.Linear(in_features=input_shape,\n",
        "                      out_features=hidden_units),\n",
        "            nn.Linear(in_features=hidden_units,\n",
        "                      out_features=output_shape) # one neruon per class (so we need a probability for each class)\n",
        "        )\n",
        "\n",
        "    def forward(self, x):\n",
        "        return self.layer_stack(x) # x is input data"
      ],
      "metadata": {
        "id": "daV74svRfxFw"
      },
      "execution_count": null,
      "outputs": []
    },
    {
      "cell_type": "code",
      "source": [
        "model = FashionMNISTModelV0(input_shape=784,\n",
        "                            hidden_units=10,\n",
        "                            output_shape=len(class_names))\n",
        "\n",
        "model"
      ],
      "metadata": {
        "colab": {
          "base_uri": "https://localhost:8080/"
        },
        "id": "9AKMvlovj6xT",
        "outputId": "be39a010-0451-4e24-d948-4dad4d1c3644"
      },
      "execution_count": null,
      "outputs": [
        {
          "output_type": "execute_result",
          "data": {
            "text/plain": [
              "FashionMNISTModelV0(\n",
              "  (layer_stack): Sequential(\n",
              "    (0): Flatten(start_dim=1, end_dim=-1)\n",
              "    (1): Linear(in_features=784, out_features=10, bias=True)\n",
              "    (2): Linear(in_features=10, out_features=10, bias=True)\n",
              "  )\n",
              ")"
            ]
          },
          "metadata": {},
          "execution_count": 37
        }
      ]
    },
    {
      "cell_type": "code",
      "source": [
        "model.state_dict()"
      ],
      "metadata": {
        "colab": {
          "base_uri": "https://localhost:8080/"
        },
        "id": "CDVsZEtRkb0Y",
        "outputId": "356b2b3b-5582-4dce-da82-ef4872f5d06b"
      },
      "execution_count": null,
      "outputs": [
        {
          "output_type": "execute_result",
          "data": {
            "text/plain": [
              "OrderedDict([('layer_stack.1.weight',\n",
              "              tensor([[-0.0145,  0.0237, -0.0282,  ...,  0.0206, -0.0111, -0.0272],\n",
              "                      [ 0.0052,  0.0173,  0.0309,  ...,  0.0029,  0.0097,  0.0272],\n",
              "                      [-0.0169,  0.0213,  0.0087,  ..., -0.0014, -0.0287, -0.0115],\n",
              "                      ...,\n",
              "                      [-0.0093,  0.0068, -0.0131,  ..., -0.0139, -0.0208, -0.0275],\n",
              "                      [ 0.0082,  0.0330,  0.0051,  ...,  0.0033,  0.0030, -0.0047],\n",
              "                      [-0.0345,  0.0140,  0.0278,  ...,  0.0321, -0.0169,  0.0152]])),\n",
              "             ('layer_stack.1.bias',\n",
              "              tensor([-0.0084,  0.0227, -0.0054, -0.0284, -0.0354, -0.0013,  0.0105, -0.0211,\n",
              "                       0.0281,  0.0169])),\n",
              "             ('layer_stack.2.weight',\n",
              "              tensor([[ 0.1907,  0.1457, -0.3050, -0.0580,  0.1643,  0.1565, -0.2877, -0.1792,\n",
              "                        0.2305, -0.2618],\n",
              "                      [ 0.2397, -0.0610,  0.0232,  0.1542,  0.0851, -0.2027,  0.1030, -0.2715,\n",
              "                       -0.1596, -0.0555],\n",
              "                      [-0.0633,  0.2302, -0.1726,  0.2654,  0.1473,  0.1029,  0.2252, -0.2160,\n",
              "                       -0.2725,  0.0118],\n",
              "                      [ 0.1559,  0.1596,  0.0132,  0.3024,  0.1124,  0.1366, -0.1533,  0.0965,\n",
              "                       -0.1184, -0.2555],\n",
              "                      [-0.2057, -0.1909, -0.0477, -0.1324,  0.2905,  0.1307, -0.2629,  0.0133,\n",
              "                        0.2727, -0.0127],\n",
              "                      [ 0.0513,  0.0863, -0.1043, -0.2047, -0.1185, -0.0825,  0.2488, -0.2571,\n",
              "                        0.0425, -0.1209],\n",
              "                      [-0.0336, -0.0281, -0.1227,  0.0730,  0.0747, -0.1816,  0.1943,  0.2853,\n",
              "                       -0.1310,  0.0645],\n",
              "                      [-0.1171,  0.2168, -0.0245, -0.2820,  0.0736,  0.2621,  0.0012, -0.0810,\n",
              "                       -0.0087,  0.1791],\n",
              "                      [ 0.2712, -0.0791,  0.1685,  0.1762,  0.2825,  0.2266, -0.2612, -0.2613,\n",
              "                       -0.2624,  0.1987],\n",
              "                      [-0.1606,  0.1747, -0.0471, -0.1303,  0.2380, -0.0611, -0.1707, -0.0485,\n",
              "                       -0.2011, -0.3045]])),\n",
              "             ('layer_stack.2.bias',\n",
              "              tensor([-0.0554, -0.0178, -0.1802,  0.2803, -0.0706, -0.0803,  0.2506,  0.0352,\n",
              "                      -0.0744,  0.0727]))])"
            ]
          },
          "metadata": {},
          "execution_count": 38
        }
      ]
    },
    {
      "cell_type": "code",
      "source": [
        "dummy_x = image.unsqueeze(dim=0)\n",
        "\n",
        "model(dummy_x)"
      ],
      "metadata": {
        "colab": {
          "base_uri": "https://localhost:8080/"
        },
        "id": "UFTKVp7ukvnY",
        "outputId": "a27247ef-64fb-4f04-a1e1-10c8cfd2024e"
      },
      "execution_count": null,
      "outputs": [
        {
          "output_type": "execute_result",
          "data": {
            "text/plain": [
              "tensor([[-0.1794,  0.2123,  0.0701, -0.0407, -0.1137,  0.2485,  0.2753,  0.0100,\n",
              "         -0.2718,  0.0466]], grad_fn=<AddmmBackward0>)"
            ]
          },
          "metadata": {},
          "execution_count": 39
        }
      ]
    },
    {
      "cell_type": "markdown",
      "source": [
        "## 3.1 Setup loss, optimizer and evalution metrics"
      ],
      "metadata": {
        "id": "kuD8WUUAlbhi"
      }
    },
    {
      "cell_type": "code",
      "source": [
        "next(iter(model.parameters()))"
      ],
      "metadata": {
        "colab": {
          "base_uri": "https://localhost:8080/"
        },
        "id": "dxVnGXnFmX8x",
        "outputId": "b477fb3c-3a98-45f5-a06c-2a4d781b462a"
      },
      "execution_count": null,
      "outputs": [
        {
          "output_type": "execute_result",
          "data": {
            "text/plain": [
              "Parameter containing:\n",
              "tensor([[-0.0145,  0.0237, -0.0282,  ...,  0.0206, -0.0111, -0.0272],\n",
              "        [ 0.0052,  0.0173,  0.0309,  ...,  0.0029,  0.0097,  0.0272],\n",
              "        [-0.0169,  0.0213,  0.0087,  ..., -0.0014, -0.0287, -0.0115],\n",
              "        ...,\n",
              "        [-0.0093,  0.0068, -0.0131,  ..., -0.0139, -0.0208, -0.0275],\n",
              "        [ 0.0082,  0.0330,  0.0051,  ...,  0.0033,  0.0030, -0.0047],\n",
              "        [-0.0345,  0.0140,  0.0278,  ...,  0.0321, -0.0169,  0.0152]],\n",
              "       requires_grad=True)"
            ]
          },
          "metadata": {},
          "execution_count": 40
        }
      ]
    },
    {
      "cell_type": "code",
      "source": [
        "loss_fn = nn.CrossEntropyLoss()\n",
        "\n",
        "optimizer = torch.optim.Adam(params=model.parameters(),\n",
        "                             lr=0.01)"
      ],
      "metadata": {
        "id": "42ZB3PLKlik9"
      },
      "execution_count": null,
      "outputs": []
    },
    {
      "cell_type": "code",
      "source": [
        "my_tensor_A = torch.tensor([1, 2, 3, 4])\n",
        "my_tensor_B = torch.tensor([10, 2, 40, 4])\n",
        "\n",
        "torch.eq(my_tensor_A, my_tensor_B).sum().item()"
      ],
      "metadata": {
        "colab": {
          "base_uri": "https://localhost:8080/"
        },
        "id": "K1Bg2wpRnEp4",
        "outputId": "13801421-ad99-4a35-8657-b35245f40c28"
      },
      "execution_count": null,
      "outputs": [
        {
          "output_type": "execute_result",
          "data": {
            "text/plain": [
              "2"
            ]
          },
          "metadata": {},
          "execution_count": 42
        }
      ]
    },
    {
      "cell_type": "code",
      "source": [
        "def accuracy_fn(y_true, y_pred):\n",
        "    correct = torch.eq(y_true, y_pred).sum().item()\n",
        "    acc = (correct / len(y_pred)) * 100\n",
        "    return acc"
      ],
      "metadata": {
        "id": "vxw6nC8YmuSC"
      },
      "execution_count": null,
      "outputs": []
    },
    {
      "cell_type": "markdown",
      "source": [
        "## 3. Creating a function to time our experiments"
      ],
      "metadata": {
        "id": "pDlCEtxvn525"
      }
    },
    {
      "cell_type": "markdown",
      "source": [
        "Machine Learning is very experimental.\n",
        "\n",
        "Two of the main things you'll often track are:\n",
        "1. The model's performance (loss and accuracy)\n",
        "2. How fast it runs"
      ],
      "metadata": {
        "id": "bt-LIxOJoBWw"
      }
    },
    {
      "cell_type": "code",
      "source": [
        "from timeit import default_timer as timer\n",
        "def print_train_time(start: float,\n",
        "                     end: float,\n",
        "                     device: torch.device = None):\n",
        "\n",
        "    \"\"\"Prints difference between start and end time.\"\"\"\n",
        "    total_time = end - start\n",
        "    print(f\"Train traim on {device}: {total_time:.3f} seconds\")\n",
        "    return total_time"
      ],
      "metadata": {
        "id": "N-Vmc97Nofuo"
      },
      "execution_count": null,
      "outputs": []
    },
    {
      "cell_type": "code",
      "source": [
        "start_time = timer()\n",
        "# Some code...\n",
        "end_time = timer()\n",
        "print_train_time(start=start_time,\n",
        "                 end=end_time,\n",
        "                 device=\"cpu\")"
      ],
      "metadata": {
        "colab": {
          "base_uri": "https://localhost:8080/"
        },
        "id": "GmHNlkVhpDxW",
        "outputId": "d29c8ae5-c9f3-4d2d-ff2a-db9c1c954286"
      },
      "execution_count": null,
      "outputs": [
        {
          "output_type": "stream",
          "name": "stdout",
          "text": [
            "Train traim on cpu: 0.000 seconds\n"
          ]
        },
        {
          "output_type": "execute_result",
          "data": {
            "text/plain": [
              "6.0598000004574715e-05"
            ]
          },
          "metadata": {},
          "execution_count": 45
        }
      ]
    },
    {
      "cell_type": "markdown",
      "source": [
        "## 3.3 Creating a training loop and testing loop and training the model on batches of data"
      ],
      "metadata": {
        "id": "347r1gejpXfc"
      }
    },
    {
      "cell_type": "code",
      "source": [
        "train_data"
      ],
      "metadata": {
        "colab": {
          "base_uri": "https://localhost:8080/"
        },
        "id": "F5rZYM25qbyw",
        "outputId": "b6abacc2-9293-4dae-9656-8b7f817ab55a"
      },
      "execution_count": null,
      "outputs": [
        {
          "output_type": "execute_result",
          "data": {
            "text/plain": [
              "Dataset FashionMNIST\n",
              "    Number of datapoints: 60000\n",
              "    Root location: data\n",
              "    Split: Train\n",
              "    StandardTransform\n",
              "Transform: ToTensor()"
            ]
          },
          "metadata": {},
          "execution_count": 46
        }
      ]
    },
    {
      "cell_type": "code",
      "source": [
        "next(iter(train_dataloader))"
      ],
      "metadata": {
        "colab": {
          "base_uri": "https://localhost:8080/"
        },
        "id": "1jZzP1UCqfPR",
        "outputId": "3ae8eba9-6988-4f1a-97f6-7bb7afdda718"
      },
      "execution_count": null,
      "outputs": [
        {
          "output_type": "execute_result",
          "data": {
            "text/plain": [
              "[tensor([[[[0.0000, 0.0000, 0.0000,  ..., 0.0000, 0.0000, 0.0000],\n",
              "           [0.0000, 0.0000, 0.0000,  ..., 0.0000, 0.0000, 0.0000],\n",
              "           [0.0000, 0.0000, 0.0000,  ..., 0.0000, 0.0000, 0.0000],\n",
              "           ...,\n",
              "           [0.0000, 0.0000, 0.0000,  ..., 0.0000, 0.0000, 0.0000],\n",
              "           [0.0000, 0.0000, 0.0000,  ..., 0.0000, 0.0000, 0.0000],\n",
              "           [0.0000, 0.0000, 0.0000,  ..., 0.0000, 0.0000, 0.0000]]],\n",
              " \n",
              " \n",
              "         [[[0.0000, 0.0000, 0.0000,  ..., 0.0000, 0.0000, 0.0000],\n",
              "           [0.0000, 0.0000, 0.0000,  ..., 0.0000, 0.0000, 0.0000],\n",
              "           [0.0000, 0.0000, 0.0000,  ..., 0.0000, 0.0000, 0.0000],\n",
              "           ...,\n",
              "           [0.0000, 0.0000, 0.0000,  ..., 0.0000, 0.0000, 0.0000],\n",
              "           [0.0000, 0.0000, 0.0000,  ..., 0.0000, 0.0000, 0.0000],\n",
              "           [0.0000, 0.0000, 0.0000,  ..., 0.0000, 0.0000, 0.0000]]],\n",
              " \n",
              " \n",
              "         [[[0.0000, 0.0000, 0.0000,  ..., 0.0000, 0.0000, 0.0000],\n",
              "           [0.0000, 0.0000, 0.0000,  ..., 0.0000, 0.0000, 0.0000],\n",
              "           [0.0000, 0.0000, 0.0000,  ..., 0.0000, 0.0000, 0.0000],\n",
              "           ...,\n",
              "           [0.0000, 0.0000, 0.6078,  ..., 0.1686, 0.0000, 0.0000],\n",
              "           [0.0000, 0.0000, 0.0000,  ..., 0.1804, 0.0000, 0.0000],\n",
              "           [0.0000, 0.0000, 0.0000,  ..., 0.0000, 0.0000, 0.0000]]],\n",
              " \n",
              " \n",
              "         ...,\n",
              " \n",
              " \n",
              "         [[[0.0000, 0.0000, 0.0000,  ..., 0.0000, 0.0000, 0.0000],\n",
              "           [0.0000, 0.0000, 0.0000,  ..., 0.0000, 0.0000, 0.0000],\n",
              "           [0.0000, 0.0000, 0.0000,  ..., 0.0000, 0.0000, 0.0000],\n",
              "           ...,\n",
              "           [0.0000, 0.7333, 0.9608,  ..., 0.7569, 0.8863, 0.0000],\n",
              "           [0.0000, 0.0588, 0.2157,  ..., 0.0000, 0.0000, 0.0000],\n",
              "           [0.0000, 0.0000, 0.0000,  ..., 0.0000, 0.0000, 0.0000]]],\n",
              " \n",
              " \n",
              "         [[[0.0000, 0.0000, 0.0000,  ..., 0.0000, 0.0000, 0.0000],\n",
              "           [0.0000, 0.0000, 0.0000,  ..., 0.0000, 0.0000, 0.0000],\n",
              "           [0.0000, 0.0000, 0.0000,  ..., 0.0000, 0.0000, 0.0000],\n",
              "           ...,\n",
              "           [0.0000, 0.0000, 0.0000,  ..., 0.0000, 0.0000, 0.0000],\n",
              "           [0.0000, 0.0000, 0.0000,  ..., 0.0000, 0.0000, 0.0000],\n",
              "           [0.0000, 0.0000, 0.0000,  ..., 0.0000, 0.0000, 0.0000]]],\n",
              " \n",
              " \n",
              "         [[[0.0000, 0.0000, 0.0000,  ..., 0.0000, 0.0000, 0.0000],\n",
              "           [0.0000, 0.0000, 0.0000,  ..., 0.0000, 0.0000, 0.0000],\n",
              "           [0.0000, 0.0000, 0.0000,  ..., 0.0000, 0.0000, 0.0000],\n",
              "           ...,\n",
              "           [0.0000, 0.0000, 0.0000,  ..., 0.0000, 0.0000, 0.0000],\n",
              "           [0.0000, 0.0000, 0.0000,  ..., 0.0000, 0.0000, 0.0000],\n",
              "           [0.0000, 0.0000, 0.0000,  ..., 0.0000, 0.0000, 0.0000]]]]),\n",
              " tensor([0, 0, 9, 9, 6, 4, 7, 5, 7, 3, 5, 8, 7, 8, 6, 5, 5, 6, 4, 7, 6, 0, 6, 9,\n",
              "         8, 6, 3, 6, 2, 8, 3, 7])]"
            ]
          },
          "metadata": {},
          "execution_count": 47
        }
      ]
    },
    {
      "cell_type": "code",
      "source": [
        "from tqdm.auto import tqdm\n",
        "\n",
        "# Set the seed and start the timer\n",
        "torch.manual_seed(42)\n",
        "train_time_start_on_cpu = timer()\n",
        "\n",
        "# Set the number of epochs\n",
        "epochs = 3\n",
        "\n",
        "# Create a training loop\n",
        "for epoch in tqdm(range(epochs)):\n",
        "    print(f\"Epoch: {epoch}\\n------\")\n",
        "\n",
        "    train_loss = 0\n",
        "\n",
        "    #Training\n",
        "    for batch, (X, y) in enumerate(train_dataloader):\n",
        "        model.train()\n",
        "\n",
        "        # 1. Forward pass\n",
        "        y_pred = model(X)\n",
        "\n",
        "        # 2. Calculate loss (per batch)\n",
        "        loss = loss_fn(y_pred, y)\n",
        "        train_loss += loss # Accumualively increase the loss\n",
        "\n",
        "        # 3. Optimizer zero gard\n",
        "        optimizer.zero_grad()\n",
        "\n",
        "        # 4. Loss backward (backprogagation algorithm)\n",
        "        loss.backward()\n",
        "\n",
        "        # 5. Gradient Descent\n",
        "        optimizer.step()\n",
        "\n",
        "        # Print out what is happening\n",
        "        if batch % 400 == 0:\n",
        "            print(f\"Looked at {batch * len(X)}/{len(train_dataloader.dataset)} samples.\")\n",
        "\n",
        "    # Divide (Normalize - Scale) the train loss by length of train_dataloader\n",
        "    train_loss /= len(train_dataloader)\n",
        "\n",
        "    ### Testing\n",
        "    test_loss, test_acc = 0, 0\n",
        "    model.eval()\n",
        "    with torch.inference_mode():\n",
        "        for X_test, y_test in test_dataloader:\n",
        "\n",
        "            # 1. Forward pass\n",
        "            test_pred = model(X_test)\n",
        "\n",
        "            # 2. Calculate loss\n",
        "            test_loss += loss_fn(test_pred, y_test)\n",
        "\n",
        "            # 3. Calculate accuracy\n",
        "            test_acc += accuracy_fn(y_true=y_test,\n",
        "                                    y_pred=test_pred.argmax(dim=1))\n",
        "\n",
        "        # Normalize (Scale) the test loss average per batch\n",
        "        test_loss /= len(test_dataloader)\n",
        "        # Normalize (Scale) the test acc average per batch\n",
        "        test_acc /= len(test_dataloader)\n",
        "\n",
        "    # Print out what is happeing\n",
        "    print(f\"\\nTrain Loss: {train_loss:.4f} | Test Loss: {test_loss:.4f}, Test Acc: {test_acc:.4f}\")\n",
        "\n",
        "\n",
        "train_time_end_on_cpu = timer()\n",
        "total_train_time_model = print_train_time(start=train_time_start_on_cpu,\n",
        "                                          end=train_time_end_on_cpu,\n",
        "                                          device=str(next(model.parameters()).device))"
      ],
      "metadata": {
        "colab": {
          "base_uri": "https://localhost:8080/",
          "height": 535,
          "referenced_widgets": [
            "cfa083ecd9af4533bee96fada17a2d9a",
            "83ef123b2d2f445e94a42be4a5a9e614",
            "347397abcde047ae8fe4257fd3218b71",
            "81c572a736cb47b6959fbb81f6d692fc",
            "88ba757abb9248dda54324c19da545b6",
            "157f882f05ed4b94a5722b83d3d5b663",
            "eb5f5f849c544cceb7724d1ec2c3e0fe",
            "4ffbbc0058e5447bac19f991eb162df8",
            "57ecf84976524ec6b8d9fa09d3665732",
            "22b3b79c64ff4966b1423eca552f8204",
            "c95441689f184e45bc47e13eee4e88bc"
          ]
        },
        "id": "9Nw6APjgph2G",
        "outputId": "4e54b829-01ab-46d9-c23a-1d6510269007"
      },
      "execution_count": null,
      "outputs": [
        {
          "output_type": "display_data",
          "data": {
            "text/plain": [
              "  0%|          | 0/3 [00:00<?, ?it/s]"
            ],
            "application/vnd.jupyter.widget-view+json": {
              "version_major": 2,
              "version_minor": 0,
              "model_id": "cfa083ecd9af4533bee96fada17a2d9a"
            }
          },
          "metadata": {}
        },
        {
          "output_type": "stream",
          "name": "stdout",
          "text": [
            "Epoch: 0\n",
            "------\n",
            "Looked at 0/60000 samples.\n",
            "Looked at 12800/60000 samples.\n",
            "Looked at 25600/60000 samples.\n",
            "Looked at 38400/60000 samples.\n",
            "Looked at 51200/60000 samples.\n",
            "\n",
            "Train Loss: 0.4971 | Test Loss: 0.4931, Test Acc: 82.6977\n",
            "Epoch: 1\n",
            "------\n",
            "Looked at 0/60000 samples.\n",
            "Looked at 12800/60000 samples.\n",
            "Looked at 25600/60000 samples.\n",
            "Looked at 38400/60000 samples.\n",
            "Looked at 51200/60000 samples.\n",
            "\n",
            "Train Loss: 0.4904 | Test Loss: 0.4839, Test Acc: 83.1769\n",
            "Epoch: 2\n",
            "------\n",
            "Looked at 0/60000 samples.\n",
            "Looked at 12800/60000 samples.\n",
            "Looked at 25600/60000 samples.\n",
            "Looked at 38400/60000 samples.\n",
            "Looked at 51200/60000 samples.\n",
            "\n",
            "Train Loss: 0.4730 | Test Loss: 0.5483, Test Acc: 81.3698\n",
            "Train traim on cpu: 34.664 seconds\n"
          ]
        }
      ]
    },
    {
      "cell_type": "code",
      "source": [
        "# Device Agnostic Code\n",
        "device = \"cuda\" if torch.cuda.is_available() else \"cpu\"\n",
        "device"
      ],
      "metadata": {
        "colab": {
          "base_uri": "https://localhost:8080/",
          "height": 36
        },
        "id": "bF8gWxgAJdhA",
        "outputId": "360136e7-1a0f-4b25-838f-03229706894b"
      },
      "execution_count": null,
      "outputs": [
        {
          "output_type": "execute_result",
          "data": {
            "text/plain": [
              "'cpu'"
            ],
            "application/vnd.google.colaboratory.intrinsic+json": {
              "type": "string"
            }
          },
          "metadata": {},
          "execution_count": 52
        }
      ]
    },
    {
      "cell_type": "code",
      "source": [
        "def make_predictions(model: torch.nn.Module,\n",
        "                     data: list,\n",
        "                     device: torch.device = device):\n",
        "    pred_probs = []\n",
        "    model.to(device)\n",
        "    model.eval()\n",
        "    with torch.inference_mode():\n",
        "        for sample in data:\n",
        "            # Prepare the sample (add a batch dimension and pass to target device)\n",
        "            sample = torch.unsqueeze(sample, dim=0).to(device)\n",
        "\n",
        "            # Forward pass (model outputs raw logits)\n",
        "            pred_logit = model(sample)\n",
        "\n",
        "            # Get prediction probability (logit -> prediction probabilities)\n",
        "            pred_prob = torch.softmax(pred_logit.squeeze(), dim=0)\n",
        "\n",
        "            # Get pred prob off the GPU for further calculations\n",
        "            pred_probs.append(pred_prob.cpu())\n",
        "\n",
        "    return torch.stack(pred_probs)"
      ],
      "metadata": {
        "id": "XXgyldhAJR1a"
      },
      "execution_count": null,
      "outputs": []
    },
    {
      "cell_type": "code",
      "source": [
        "import random\n",
        "# random.seed(42)\n",
        "test_samples = []\n",
        "test_labels = []\n",
        "\n",
        "for sample, label in random.sample(list(test_data), k=9):\n",
        "    test_samples.append(sample)\n",
        "    test_labels.append(label)\n",
        "\n",
        "# View the first sample shape\n",
        "test_samples[0].shape"
      ],
      "metadata": {
        "colab": {
          "base_uri": "https://localhost:8080/"
        },
        "id": "bslaDo6XKwOR",
        "outputId": "411aeda6-5ecc-4abf-d926-1b1fb6f4a591"
      },
      "execution_count": null,
      "outputs": [
        {
          "output_type": "execute_result",
          "data": {
            "text/plain": [
              "torch.Size([1, 28, 28])"
            ]
          },
          "metadata": {},
          "execution_count": 68
        }
      ]
    },
    {
      "cell_type": "code",
      "source": [
        "len(test_samples)"
      ],
      "metadata": {
        "colab": {
          "base_uri": "https://localhost:8080/"
        },
        "id": "NcWhbWQXLT3v",
        "outputId": "4bcb6841-2536-4bff-ee89-9a0207b9a708"
      },
      "execution_count": null,
      "outputs": [
        {
          "output_type": "execute_result",
          "data": {
            "text/plain": [
              "9"
            ]
          },
          "metadata": {},
          "execution_count": 69
        }
      ]
    },
    {
      "cell_type": "code",
      "source": [
        "plt.imshow(test_samples[0].squeeze(), cmap=\"gray\");"
      ],
      "metadata": {
        "colab": {
          "base_uri": "https://localhost:8080/",
          "height": 430
        },
        "id": "AHQaqtS8LfPc",
        "outputId": "6b07b3bf-6042-48f4-b672-6b2e2d5cf63e"
      },
      "execution_count": null,
      "outputs": [
        {
          "output_type": "display_data",
          "data": {
            "text/plain": [
              "<Figure size 640x480 with 1 Axes>"
            ],
            "image/png": "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\n"
          },
          "metadata": {}
        }
      ]
    },
    {
      "cell_type": "code",
      "source": [
        "# Make predictions\n",
        "pred_probs = make_predictions(model=model,\n",
        "                              data=test_samples)\n",
        "\n",
        "# View first two predictions probabilities\n",
        "pred_probs[:2]"
      ],
      "metadata": {
        "colab": {
          "base_uri": "https://localhost:8080/"
        },
        "id": "I4rR62yGLp2_",
        "outputId": "d08039c4-3941-4e0c-9eed-b3e65f4ff83c"
      },
      "execution_count": null,
      "outputs": [
        {
          "output_type": "execute_result",
          "data": {
            "text/plain": [
              "tensor([[6.7626e-02, 1.1474e-04, 6.5516e-03, 2.0725e-01, 2.2736e-04, 2.8018e-02,\n",
              "         1.7060e-01, 1.4332e-02, 2.8501e-01, 2.2027e-01],\n",
              "        [1.4045e-05, 8.4024e-07, 3.4372e-05, 4.7123e-05, 1.7304e-05, 1.3322e-02,\n",
              "         1.0814e-04, 8.7798e-01, 7.7812e-03, 1.0070e-01]])"
            ]
          },
          "metadata": {},
          "execution_count": 71
        }
      ]
    },
    {
      "cell_type": "code",
      "source": [
        "# Convert prediction probabilities into labels\n",
        "pred_classes = pred_probs.argmax(dim=1)\n",
        "pred_classes"
      ],
      "metadata": {
        "colab": {
          "base_uri": "https://localhost:8080/"
        },
        "id": "fWa8Ov1aMCPs",
        "outputId": "67ff544d-0f99-4ebd-d4a0-cf60e96706aa"
      },
      "execution_count": null,
      "outputs": [
        {
          "output_type": "execute_result",
          "data": {
            "text/plain": [
              "tensor([8, 7, 6, 0, 1, 0, 3, 8, 4])"
            ]
          },
          "metadata": {},
          "execution_count": 72
        }
      ]
    },
    {
      "cell_type": "code",
      "source": [
        "class_names"
      ],
      "metadata": {
        "colab": {
          "base_uri": "https://localhost:8080/"
        },
        "id": "p_h8OnzCNGUw",
        "outputId": "8c979dde-8299-4907-bd3d-80d24222ce9a"
      },
      "execution_count": null,
      "outputs": [
        {
          "output_type": "execute_result",
          "data": {
            "text/plain": [
              "['T-shirt/top',\n",
              " 'Trouser',\n",
              " 'Pullover',\n",
              " 'Dress',\n",
              " 'Coat',\n",
              " 'Sandal',\n",
              " 'Shirt',\n",
              " 'Sneaker',\n",
              " 'Bag',\n",
              " 'Ankle boot']"
            ]
          },
          "metadata": {},
          "execution_count": 73
        }
      ]
    },
    {
      "cell_type": "code",
      "source": [
        "test_labels"
      ],
      "metadata": {
        "colab": {
          "base_uri": "https://localhost:8080/"
        },
        "id": "pOlWlN_vNUaG",
        "outputId": "586d71be-86c6-4dcc-8c39-42e2f2fe6c48"
      },
      "execution_count": null,
      "outputs": [
        {
          "output_type": "execute_result",
          "data": {
            "text/plain": [
              "[9, 7, 2, 0, 1, 0, 4, 5, 4]"
            ]
          },
          "metadata": {},
          "execution_count": 74
        }
      ]
    },
    {
      "cell_type": "code",
      "source": [
        "# Plot predictions\n",
        "plt.figure(figsize=(9, 9))\n",
        "nrows = 3\n",
        "ncols = 3\n",
        "for i, sample in enumerate(test_samples):\n",
        "    # Create subplot\n",
        "    plt.subplot(nrows, ncols, i+1)\n",
        "\n",
        "    # Plot the target image\n",
        "    plt.imshow(sample.squeeze(), cmap=\"gray\")\n",
        "\n",
        "    # Find the prediction (in text form, e.g. \"Sandal\" or \"T-Shirt\")\n",
        "    pred_label = class_names[pred_classes[i]]\n",
        "\n",
        "    # Get the truth label (in text form)\n",
        "    truth_label = class_names[test_labels[i]]\n",
        "\n",
        "    # Create a title for the plot\n",
        "    title_text = f\"Pred: {pred_label} | Truth: {truth_label}\"\n",
        "\n",
        "    # Check for equality between pred and truth and change the color of title text\n",
        "    if pred_label == truth_label:\n",
        "        plt.title(title_text, fontsize=10, c=\"g\")\n",
        "    else:\n",
        "        plt.title(title_text, fontsize=10, c=\"r\")\n",
        "\n",
        "    plt.axis(False)"
      ],
      "metadata": {
        "colab": {
          "base_uri": "https://localhost:8080/",
          "height": 749
        },
        "id": "0lgX6ldkMfVi",
        "outputId": "f5d42987-9b8a-4463-bc89-be00518aba75"
      },
      "execution_count": null,
      "outputs": [
        {
          "output_type": "display_data",
          "data": {
            "text/plain": [
              "<Figure size 900x900 with 9 Axes>"
            ],
            "image/png": "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\n"
          },
          "metadata": {}
        }
      ]
    },
    {
      "cell_type": "markdown",
      "source": [
        "# Making confusion matrix for further prediction evaluation\n",
        "\n",
        "1. A confusion matrix is a fantastic way to visualize your classification model performance\n",
        "2. Make a confusion matrix `torchmetrics.ConfusionMatrix`\n",
        "3. Plot the confusion matrix using `mlxtend.plotting.plot_confusion_matrix`"
      ],
      "metadata": {
        "id": "QrtMxqgROI0o"
      }
    },
    {
      "cell_type": "code",
      "source": [
        "# Import tqdm.auto\n",
        "from tqdm.auto import tqdm\n",
        "\n",
        "# 1. Make predictions with our trained model on the test dataset\n",
        "y_preds = []\n",
        "model.eval()\n",
        "with torch.inference_mode():\n",
        "    for X, y in tqdm(test_dataloader, desc=\"Making Predictions...\"):\n",
        "        # Send the data to the device and target to target deivce\n",
        "        X, y = X.to(device), y.to(device)\n",
        "\n",
        "        # Do the forward passs\n",
        "        y_logit = model(X)\n",
        "\n",
        "        # Turn prediction from logits -> prediction probabilities -> prediction labels\n",
        "        y_pred = torch.softmax(y_logit.squeeze(), dim=0).argmax(dim=1)\n",
        "\n",
        "        # Put predictions on CPU for evaluation\n",
        "        y_preds.append(y_pred.cpu())\n",
        "\n",
        "# Concatenate list of predictions into a tensor\n",
        "print(y_preds)\n",
        "y_pred_tensor = torch.cat(y_preds)\n",
        "y_pred_tensor[:10]"
      ],
      "metadata": {
        "colab": {
          "base_uri": "https://localhost:8080/",
          "height": 1000,
          "referenced_widgets": [
            "a2535ace8fb34017bfa35d737e99aae6",
            "e938bc777ee6417b83733a43d88f813e",
            "d7a5e5c28b7941b69b8f18fabd7349ae",
            "7ebf5be676724a419b30600d8d593fbb",
            "bffb71c8aff64e9086b19cb16bea3e26",
            "30f358b5c4954e0eabe6fef15c4025fb",
            "55dbd31eca4e4cbda2f469d01238ffd7",
            "e09336f60f2944ba801d2c4c67643a4c",
            "d724420dfedb43dc9eff52f8ee57ae1f",
            "fb54258d3c96495b99d14f20a79affb7",
            "2c55476597f34aa6a907d07092fb4ee1"
          ]
        },
        "id": "pEa3E1ETOdof",
        "outputId": "4a316e28-d62e-4293-b900-b730f9ee086c"
      },
      "execution_count": null,
      "outputs": [
        {
          "output_type": "display_data",
          "data": {
            "text/plain": [
              "Making Predictions...:   0%|          | 0/313 [00:00<?, ?it/s]"
            ],
            "application/vnd.jupyter.widget-view+json": {
              "version_major": 2,
              "version_minor": 0,
              "model_id": "a2535ace8fb34017bfa35d737e99aae6"
            }
          },
          "metadata": {}
        },
        {
          "output_type": "stream",
          "name": "stdout",
          "text": [
            "[tensor([5, 2, 1, 1, 6, 1, 4, 4, 5, 7, 4, 5, 5, 3, 4, 3, 4, 4, 8, 0, 6, 5, 7, 5,\n",
            "        1, 4, 4, 3, 9, 4, 8, 8]), tensor([3, 3, 8, 0, 7, 5, 7, 9, 0, 1, 4, 5, 4, 5, 6, 3, 4, 6, 4, 4, 5, 6, 4, 2,\n",
            "        8, 4, 8, 0, 7, 5, 4, 5]), tensor([1, 3, 3, 3, 7, 8, 7, 3, 6, 3, 4, 3, 1, 2, 8, 4, 3, 8, 5, 9, 5, 6, 3, 3,\n",
            "        0, 6, 5, 3, 6, 7, 3, 4]), tensor([4, 1, 4, 4, 3, 4, 7, 4, 7, 4, 5, 7, 9, 4, 4, 5, 7, 6, 5, 2, 8, 4, 7, 8,\n",
            "        3, 0, 7, 9, 3, 6, 8, 4]), tensor([1, 5, 4, 1, 7, 4, 8, 4, 4, 1, 4, 5, 1, 6, 4, 0, 4, 6, 4, 3, 2, 4, 4, 4,\n",
            "        1, 4, 5, 0, 4, 7, 9, 3]), tensor([7, 6, 3, 5, 3, 9, 4, 7, 4, 6, 6, 5, 3, 1, 2, 1, 3, 0, 5, 1, 0, 7, 3, 8,\n",
            "        7, 9, 5, 4, 4, 7, 3, 3]), tensor([3, 2, 3, 2, 8, 3, 2, 1, 3, 2, 2, 5, 2, 4, 3, 7, 9, 3, 4, 3, 8, 4, 3, 3,\n",
            "        4, 2, 5, 2, 8, 5, 3, 0]), tensor([7, 7, 6, 3, 7, 0, 7, 8, 5, 6, 9, 0, 5, 1, 4, 2, 3, 3, 9, 3, 3, 4, 6, 4,\n",
            "        6, 4, 5, 7, 3, 5, 5, 4]), tensor([8, 5, 4, 3, 2, 4, 8, 6, 3, 4, 3, 8, 9, 3, 1, 3, 6, 4, 3, 0, 8, 3, 7, 4,\n",
            "        6, 1, 3, 4, 4, 4, 3, 7]), tensor([5, 3, 5, 5, 5, 3, 5, 5, 3, 9, 3, 3, 3, 3, 6, 8, 0, 0, 2, 7, 5, 7, 1, 3,\n",
            "        3, 4, 2, 4, 7, 3, 3, 4]), tensor([8, 2, 6, 5, 6, 2, 8, 7, 7, 3, 3, 7, 6, 7, 1, 3, 8, 6, 2, 3, 4, 0, 3, 1,\n",
            "        0, 1, 9, 4, 5, 5, 1, 8]), tensor([8, 3, 3, 0, 2, 4, 8, 2, 1, 2, 2, 4, 4, 7, 3, 4, 2, 5, 3, 7, 5, 4, 0, 9,\n",
            "        3, 9, 4, 2, 5, 6, 2, 3]), tensor([8, 8, 1, 3, 2, 2, 4, 4, 7, 5, 4, 6, 4, 4, 3, 2, 0, 7, 7, 3, 4, 4, 3, 3,\n",
            "        4, 3, 3, 4, 7, 2, 9, 4]), tensor([2, 1, 5, 4, 5, 3, 8, 5, 4, 4, 4, 4, 9, 2, 2, 2, 4, 4, 2, 4, 3, 2, 1, 3,\n",
            "        0, 7, 4, 2, 4, 5, 3, 1]), tensor([5, 5, 3, 3, 6, 1, 3, 2, 7, 4, 0, 6, 1, 4, 2, 3, 0, 3, 3, 8, 2, 8, 7, 4,\n",
            "        0, 7, 6, 4, 4, 5, 3, 9]), tensor([7, 9, 3, 7, 5, 7, 8, 1, 6, 6, 4, 4, 8, 9, 7, 5, 1, 2, 7, 3, 4, 0, 5, 7,\n",
            "        1, 8, 4, 4, 4, 4, 4, 4]), tensor([0, 0, 9, 3, 5, 0, 9, 0, 6, 6, 3, 0, 7, 2, 6, 6, 4, 6, 0, 0, 5, 8, 4, 5,\n",
            "        3, 7, 4, 3, 4, 2, 5, 1]), tensor([3, 1, 2, 6, 2, 5, 3, 3, 5, 3, 3, 1, 9, 3, 4, 5, 3, 3, 2, 3, 4, 6, 0, 5,\n",
            "        2, 3, 3, 4, 2, 5, 7, 8]), tensor([7, 3, 3, 8, 7, 6, 7, 7, 3, 4, 0, 4, 2, 3, 1, 1, 5, 7, 4, 2, 5, 7, 8, 1,\n",
            "        2, 9, 7, 7, 1, 2, 7, 3]), tensor([4, 5, 1, 5, 6, 4, 2, 7, 1, 2, 3, 8, 1, 4, 8, 5, 3, 0, 5, 1, 6, 2, 9, 4,\n",
            "        1, 4, 4, 1, 1, 4, 4, 4]), tensor([7, 5, 8, 4, 9, 1, 2, 5, 4, 4, 4, 6, 0, 4, 5, 2, 6, 4, 5, 2, 1, 3, 1, 3,\n",
            "        2, 2, 3, 8, 2, 3, 6, 7]), tensor([0, 4, 1, 8, 5, 1, 3, 2, 7, 1, 8, 7, 1, 4, 4, 5, 1, 4, 5, 1, 9, 5, 3, 4,\n",
            "        4, 1, 3, 3, 8, 3, 4, 3]), tensor([9, 7, 5, 4, 8, 7, 1, 3, 7, 3, 0, 4, 4, 7, 1, 8, 8, 8, 7, 2, 3, 4, 4, 4,\n",
            "        1, 5, 9, 6, 8, 3, 8, 5]), tensor([6, 2, 4, 3, 3, 2, 1, 1, 8, 5, 7, 9, 8, 7, 4, 6, 7, 6, 8, 0, 9, 7, 4, 1,\n",
            "        2, 2, 4, 8, 2, 6, 3, 4]), tensor([8, 4, 0, 8, 9, 3, 4, 5, 9, 3, 4, 4, 5, 2, 3, 7, 5, 5, 8, 3, 7, 7, 3, 3,\n",
            "        1, 3, 7, 3, 3, 8, 4, 4]), tensor([9, 0, 6, 3, 2, 2, 4, 7, 1, 6, 5, 0, 5, 2, 5, 2, 7, 2, 8, 5, 5, 3, 3, 6,\n",
            "        7, 1, 7, 0, 5, 4, 6, 5]), tensor([4, 3, 7, 1, 2, 0, 1, 9, 4, 4, 7, 4, 4, 7, 5, 5, 7, 0, 8, 4, 5, 7, 0, 5,\n",
            "        0, 1, 0, 0, 6, 3, 7, 3]), tensor([4, 2, 7, 1, 2, 2, 6, 3, 3, 1, 1, 4, 6, 4, 3, 7, 7, 6, 8, 9, 5, 6, 1, 3,\n",
            "        4, 0, 3, 5, 7, 4, 3, 4]), tensor([5, 1, 5, 7, 4, 7, 7, 3, 4, 4, 3, 4, 6, 4, 0, 2, 5, 5, 1, 4, 3, 9, 3, 7,\n",
            "        4, 4, 8, 3, 4, 5, 3, 7]), tensor([4, 8, 4, 2, 4, 4, 3, 4, 9, 2, 2, 4, 7, 1, 8, 4, 7, 5, 7, 4, 4, 2, 1, 6,\n",
            "        5, 4, 2, 0, 2, 7, 7, 0]), tensor([3, 5, 5, 4, 8, 2, 4, 4, 6, 2, 5, 3, 5, 7, 1, 4, 4, 6, 5, 0, 7, 5, 8, 8,\n",
            "        3, 1, 4, 4, 4, 4, 3, 2]), tensor([3, 7, 4, 9, 3, 4, 7, 7, 0, 3, 5, 5, 4, 4, 7, 9, 4, 3, 7, 5, 1, 9, 8, 8,\n",
            "        8, 9, 2, 7, 2, 4, 3, 8]), tensor([7, 4, 8, 8, 4, 3, 6, 8, 4, 9, 3, 1, 8, 5, 8, 8, 7, 5, 2, 3, 3, 5, 4, 3,\n",
            "        8, 0, 4, 8, 8, 4, 7, 4]), tensor([6, 3, 4, 7, 0, 2, 1, 1, 4, 4, 8, 5, 9, 2, 1, 4, 5, 1, 4, 4, 8, 4, 7, 7,\n",
            "        3, 8, 4, 1, 9, 8, 1, 3]), tensor([3, 7, 5, 0, 5, 7, 6, 9, 6, 3, 5, 8, 4, 6, 3, 8, 6, 5, 5, 2, 5, 1, 9, 3,\n",
            "        5, 4, 8, 6, 6, 1, 1, 7]), tensor([5, 6, 6, 7, 0, 1, 8, 3, 1, 3, 3, 1, 4, 9, 6, 6, 4, 5, 7, 6, 3, 7, 1, 5,\n",
            "        3, 7, 1, 3, 2, 7, 3, 7]), tensor([3, 7, 2, 9, 3, 7, 0, 9, 3, 4, 4, 4, 7, 2, 4, 4, 2, 3, 7, 8, 4, 2, 4, 5,\n",
            "        5, 6, 4, 5, 5, 8, 1, 1]), tensor([7, 4, 3, 7, 6, 8, 7, 4, 3, 3, 2, 7, 7, 4, 9, 3, 5, 3, 3, 3, 2, 3, 4, 3,\n",
            "        1, 7, 3, 3, 5, 3, 6, 7]), tensor([3, 4, 3, 1, 3, 1, 3, 4, 7, 2, 4, 9, 5, 4, 7, 3, 3, 4, 4, 6, 8, 5, 3, 2,\n",
            "        5, 4, 1, 4, 3, 5, 4, 4]), tensor([4, 3, 4, 4, 0, 4, 4, 4, 8, 3, 4, 4, 0, 4, 4, 4, 6, 4, 5, 4, 4, 3, 6, 1,\n",
            "        7, 0, 5, 1, 5, 4, 5, 4]), tensor([4, 7, 3, 8, 9, 4, 8, 2, 9, 5, 7, 9, 9, 2, 6, 0, 3, 2, 4, 4, 9, 7, 1, 3,\n",
            "        4, 6, 4, 9, 1, 4, 7, 3]), tensor([4, 8, 2, 2, 8, 5, 4, 1, 6, 5, 4, 3, 6, 5, 6, 6, 5, 2, 2, 4, 9, 3, 6, 3,\n",
            "        3, 8, 8, 3, 0, 6, 4, 4]), tensor([8, 1, 3, 4, 1, 7, 2, 1, 4, 4, 7, 9, 4, 6, 3, 4, 4, 2, 4, 5, 6, 2, 8, 3,\n",
            "        7, 4, 4, 0, 0, 5, 4, 8]), tensor([4, 4, 4, 6, 2, 1, 7, 9, 5, 4, 7, 4, 6, 9, 5, 3, 1, 3, 2, 5, 6, 1, 9, 4,\n",
            "        4, 7, 1, 0, 6, 5, 8, 4]), tensor([4, 7, 9, 5, 2, 7, 5, 5, 1, 2, 7, 5, 3, 3, 7, 7, 1, 4, 7, 8, 0, 1, 7, 4,\n",
            "        7, 1, 1, 3, 5, 4, 4, 5]), tensor([9, 5, 5, 2, 3, 9, 3, 8, 5, 4, 6, 3, 6, 5, 7, 4, 5, 2, 3, 4, 4, 7, 8, 0,\n",
            "        5, 1, 7, 2, 3, 4, 8, 7]), tensor([8, 7, 1, 6, 0, 2, 5, 7, 5, 6, 0, 0, 7, 3, 6, 4, 7, 0, 6, 4, 4, 3, 0, 0,\n",
            "        0, 3, 4, 1, 3, 7, 4, 5]), tensor([3, 7, 1, 1, 8, 0, 9, 5, 0, 7, 4, 6, 7, 1, 0, 5, 3, 8, 7, 8, 3, 8, 5, 2,\n",
            "        2, 0, 1, 3, 5, 0, 7, 3]), tensor([9, 9, 2, 4, 7, 0, 1, 3, 9, 4, 3, 7, 2, 4, 1, 8, 0, 7, 9, 8, 5, 4, 2, 6,\n",
            "        4, 0, 6, 5, 4, 3, 4, 7]), tensor([5, 7, 3, 7, 6, 7, 0, 4, 4, 5, 3, 5, 1, 1, 7, 7, 4, 4, 8, 4, 8, 8, 4, 4,\n",
            "        4, 4, 9, 9, 4, 5, 4, 2]), tensor([7, 2, 0, 7, 7, 1, 2, 5, 4, 7, 3, 4, 3, 3, 4, 8, 4, 7, 4, 6, 0, 6, 4, 3,\n",
            "        6, 6, 2, 7, 3, 2, 8, 3]), tensor([7, 7, 3, 1, 7, 5, 8, 8, 4, 3, 8, 4, 4, 3, 7, 7, 0, 4, 2, 7, 7, 3, 9, 4,\n",
            "        5, 9, 7, 3, 7, 4, 4, 5]), tensor([1, 4, 5, 4, 5, 2, 4, 4, 1, 4, 4, 8, 4, 5, 7, 4, 1, 1, 7, 2, 3, 5, 6, 3,\n",
            "        9, 7, 5, 3, 8, 8, 8, 7]), tensor([1, 3, 4, 3, 1, 4, 3, 4, 5, 5, 6, 0, 3, 7, 4, 5, 6, 4, 4, 4, 5, 2, 3, 4,\n",
            "        8, 3, 7, 2, 3, 4, 4, 5]), tensor([4, 1, 9, 3, 4, 2, 5, 5, 3, 8, 3, 6, 3, 4, 3, 4, 2, 4, 6, 5, 0, 2, 7, 8,\n",
            "        7, 4, 6, 6, 6, 5, 2, 4]), tensor([2, 9, 5, 2, 6, 7, 3, 1, 9, 3, 7, 3, 7, 7, 3, 0, 5, 3, 3, 4, 7, 7, 8, 3,\n",
            "        4, 7, 3, 3, 7, 7, 7, 8]), tensor([4, 7, 5, 7, 4, 4, 7, 5, 1, 3, 0, 4, 7, 7, 8, 3, 7, 2, 4, 4, 9, 3, 3, 1,\n",
            "        7, 7, 1, 4, 7, 2, 7, 4]), tensor([5, 7, 3, 7, 5, 7, 4, 0, 7, 3, 3, 2, 6, 4, 9, 9, 3, 3, 6, 8, 3, 8, 7, 4,\n",
            "        4, 1, 8, 4, 4, 7, 3, 4]), tensor([4, 3, 0, 6, 4, 4, 4, 4, 5, 4, 7, 6, 7, 7, 1, 5, 4, 7, 4, 7, 9, 4, 2, 4,\n",
            "        1, 1, 3, 8, 4, 4, 4, 7]), tensor([5, 6, 0, 8, 4, 4, 7, 3, 1, 3, 0, 9, 6, 3, 3, 3, 8, 0, 9, 5, 7, 6, 0, 3,\n",
            "        6, 3, 1, 7, 7, 4, 2, 0]), tensor([3, 4, 4, 4, 1, 7, 4, 4, 4, 4, 4, 8, 7, 1, 8, 7, 3, 9, 7, 4, 3, 4, 9, 3,\n",
            "        4, 3, 3, 5, 0, 4, 1, 0]), tensor([3, 7, 7, 3, 7, 4, 5, 7, 7, 4, 9, 1, 4, 4, 3, 2, 3, 6, 6, 3, 3, 8, 3, 4,\n",
            "        3, 0, 4, 4, 3, 4, 5, 3]), tensor([2, 2, 4, 5, 5, 3, 3, 1, 3, 9, 5, 1, 3, 3, 4, 2, 4, 4, 1, 3, 8, 8, 2, 7,\n",
            "        5, 6, 4, 7, 3, 3, 2, 4]), tensor([4, 5, 5, 4, 4, 3, 9, 1, 1, 7, 3, 8, 5, 2, 2, 7, 3, 5, 5, 3, 1, 5, 1, 4,\n",
            "        8, 4, 2, 9, 3, 4, 0, 6]), tensor([7, 6, 5, 7, 5, 5, 7, 6, 5, 3, 3, 6, 9, 8, 4, 2, 6, 4, 9, 4, 3, 2, 7, 4,\n",
            "        0, 3, 8, 1, 8, 7, 4, 4]), tensor([5, 4, 2, 5, 1, 7, 4, 9, 1, 3, 4, 3, 4, 7, 7, 5, 7, 2, 4, 3, 5, 5, 8, 5,\n",
            "        3, 0, 3, 4, 5, 2, 4, 3]), tensor([3, 5, 3, 3, 2, 2, 8, 3, 7, 5, 7, 4, 4, 4, 3, 2, 3, 5, 4, 8, 9, 1, 5, 9,\n",
            "        3, 6, 6, 4, 0, 1, 7, 7]), tensor([4, 4, 5, 7, 3, 6, 4, 3, 4, 7, 8, 7, 2, 4, 0, 4, 5, 4, 4, 4, 5, 4, 5, 5,\n",
            "        3, 4, 5, 9, 3, 1, 4, 3]), tensor([3, 5, 5, 7, 9, 8, 0, 5, 9, 3, 7, 9, 3, 6, 6, 0, 5, 7, 5, 2, 3, 5, 3, 1,\n",
            "        1, 9, 4, 3, 9, 5, 5, 7]), tensor([2, 4, 7, 0, 2, 1, 8, 7, 1, 5, 6, 5, 5, 3, 3, 5, 6, 4, 3, 7, 4, 4, 4, 8,\n",
            "        7, 9, 4, 1, 3, 5, 5, 8]), tensor([5, 3, 7, 4, 4, 3, 5, 6, 0, 3, 7, 1, 4, 3, 3, 5, 3, 8, 5, 3, 1, 2, 9, 4,\n",
            "        6, 5, 2, 8, 3, 2, 7, 8]), tensor([4, 4, 4, 3, 4, 2, 4, 3, 6, 4, 8, 5, 4, 9, 3, 7, 3, 4, 6, 7, 1, 4, 7, 2,\n",
            "        1, 2, 6, 3, 4, 5, 2, 4]), tensor([8, 7, 5, 2, 3, 3, 4, 3, 3, 1, 5, 2, 7, 7, 3, 6, 4, 8, 3, 4, 3, 5, 4, 3,\n",
            "        3, 3, 1, 4, 4, 0, 4, 9]), tensor([4, 4, 3, 9, 9, 4, 3, 4, 4, 3, 3, 3, 4, 5, 9, 4, 4, 8, 7, 4, 3, 6, 4, 4,\n",
            "        5, 7, 4, 0, 7, 5, 1, 4]), tensor([4, 8, 5, 3, 4, 2, 2, 4, 4, 7, 8, 7, 1, 3, 4, 5, 5, 3, 1, 1, 8, 8, 3, 4,\n",
            "        7, 0, 1, 8, 3, 4, 4, 7]), tensor([4, 7, 4, 8, 4, 9, 1, 4, 4, 2, 7, 7, 6, 5, 1, 4, 2, 6, 4, 3, 0, 4, 3, 7,\n",
            "        1, 4, 3, 3, 4, 4, 7, 3]), tensor([7, 8, 3, 3, 1, 0, 2, 3, 4, 4, 4, 8, 4, 7, 2, 7, 5, 5, 3, 6, 6, 5, 3, 3,\n",
            "        5, 8, 3, 4, 3, 9, 4, 3]), tensor([3, 4, 5, 4, 1, 4, 3, 5, 7, 4, 5, 3, 3, 4, 3, 6, 3, 8, 9, 3, 5, 3, 2, 3,\n",
            "        7, 3, 2, 2, 8, 5, 7, 2]), tensor([3, 3, 3, 3, 6, 3, 7, 4, 1, 2, 3, 4, 3, 4, 8, 5, 3, 8, 5, 6, 7, 4, 1, 5,\n",
            "        9, 4, 6, 9, 0, 7, 3, 7]), tensor([3, 7, 8, 6, 3, 8, 1, 5, 3, 9, 5, 4, 4, 2, 4, 5, 5, 3, 4, 2, 2, 5, 8, 3,\n",
            "        2, 1, 3, 7, 1, 8, 8, 7]), tensor([1, 8, 9, 3, 7, 7, 7, 1, 7, 4, 4, 3, 2, 3, 5, 2, 8, 7, 6, 8, 6, 3, 3, 7,\n",
            "        5, 0, 3, 5, 3, 6, 4, 5]), tensor([2, 2, 4, 9, 1, 0, 5, 8, 7, 2, 4, 6, 3, 4, 3, 7, 4, 8, 7, 4, 1, 7, 4, 2,\n",
            "        4, 4, 4, 4, 1, 8, 4, 7]), tensor([4, 9, 4, 5, 3, 3, 3, 8, 8, 2, 6, 7, 2, 4, 0, 4, 1, 3, 8, 1, 5, 5, 2, 4,\n",
            "        3, 1, 2, 5, 2, 2, 6, 3]), tensor([3, 7, 4, 2, 3, 2, 3, 2, 9, 7, 3, 5, 4, 7, 2, 4, 5, 2, 6, 8, 4, 0, 4, 4,\n",
            "        3, 4, 1, 4, 4, 2, 7, 1]), tensor([0, 6, 4, 3, 1, 5, 4, 3, 8, 3, 3, 3, 5, 4, 9, 8, 8, 4, 5, 5, 6, 7, 2, 5,\n",
            "        3, 0, 5, 3, 5, 2, 3, 3]), tensor([8, 2, 3, 0, 5, 7, 3, 3, 8, 4, 3, 4, 8, 4, 4, 4, 3, 4, 2, 3, 5, 4, 7, 9,\n",
            "        5, 7, 4, 1, 5, 8, 8, 4]), tensor([2, 4, 4, 3, 3, 2, 4, 0, 3, 7, 8, 4, 0, 8, 4, 3, 7, 7, 1, 3, 5, 5, 3, 9,\n",
            "        2, 4, 2, 3, 8, 3, 7, 1]), tensor([3, 6, 5, 3, 5, 8, 1, 4, 2, 3, 4, 8, 4, 8, 4, 6, 1, 8, 7, 3, 0, 6, 2, 2,\n",
            "        9, 7, 3, 7, 6, 1, 2, 5]), tensor([7, 4, 0, 5, 4, 5, 8, 7, 4, 4, 2, 8, 4, 4, 9, 3, 4, 5, 8, 3, 1, 4, 4, 6,\n",
            "        2, 8, 4, 4, 3, 3, 5, 5]), tensor([4, 3, 3, 1, 8, 1, 5, 4, 0, 6, 7, 9, 3, 4, 7, 1, 7, 4, 1, 4, 2, 8, 4, 7,\n",
            "        5, 4, 7, 3, 4, 5, 6, 8]), tensor([3, 2, 3, 5, 4, 3, 3, 1, 0, 3, 8, 5, 2, 4, 4, 1, 8, 3, 3, 4, 3, 4, 4, 9,\n",
            "        6, 3, 7, 3, 3, 3, 8, 4]), tensor([3, 4, 7, 8, 3, 4, 3, 3, 4, 9, 4, 3, 5, 1, 4, 4, 0, 1, 3, 3, 3, 3, 7, 5,\n",
            "        8, 3, 2, 4, 3, 7, 3, 1]), tensor([1, 7, 7, 4, 7, 4, 5, 3, 7, 3, 2, 9, 4, 1, 4, 2, 4, 5, 4, 5, 4, 7, 4, 4,\n",
            "        6, 5, 0, 8, 1, 3, 4, 3]), tensor([8, 2, 0, 3, 3, 8, 7, 8, 4, 4, 3, 6, 6, 4, 5, 3, 4, 3, 1, 9, 7, 3, 4, 3,\n",
            "        1, 4, 2, 5, 5, 1, 3, 3]), tensor([3, 7, 9, 8, 7, 2, 7, 7, 7, 2, 4, 6, 6, 3, 3, 5, 1, 1, 4, 8, 0, 9, 7, 5,\n",
            "        4, 8, 8, 3, 6, 3, 6, 4]), tensor([4, 4, 5, 7, 2, 3, 4, 3, 4, 4, 3, 4, 4, 4, 3, 0, 1, 4, 4, 1, 5, 4, 1, 7,\n",
            "        8, 2, 7, 7, 7, 7, 7, 5]), tensor([5, 3, 4, 7, 4, 4, 5, 1, 4, 4, 4, 4, 3, 7, 7, 7, 5, 2, 5, 4, 5, 8, 5, 3,\n",
            "        1, 9, 7, 4, 0, 3, 4, 4]), tensor([6, 5, 4, 5, 2, 5, 4, 9, 2, 3, 4, 0, 2, 9, 8, 1, 3, 8, 1, 5, 3, 6, 1, 3,\n",
            "        6, 6, 9, 8, 2, 8, 2, 7]), tensor([5, 1, 3, 6, 3, 0, 5, 8, 7, 4, 5, 2, 4, 7, 5, 5, 8, 9, 7, 3, 2, 4, 8, 3,\n",
            "        7, 5, 7, 4, 2, 4, 5, 3]), tensor([4, 3, 1, 8, 9, 4, 3, 3, 4, 3, 7, 3, 0, 4, 4, 3, 3, 3, 3, 2, 3, 8, 4, 3,\n",
            "        3, 3, 3, 3, 3, 3, 3, 7]), tensor([5, 3, 7, 2, 2, 3, 5, 1, 1, 2, 7, 3, 8, 8, 7, 5, 5, 9, 5, 5, 4, 0, 7, 1,\n",
            "        4, 3, 6, 7, 7, 4, 3, 8]), tensor([6, 5, 5, 3, 8, 4, 7, 3, 3, 4, 3, 1, 2, 4, 3, 0, 7, 5, 8, 9, 5, 5, 5, 3,\n",
            "        5, 4, 3, 2, 3, 3, 4, 3]), tensor([8, 8, 9, 4, 5, 2, 4, 1, 2, 5, 9, 0, 5, 2, 2, 5, 6, 3, 8, 3, 8, 7, 2, 7,\n",
            "        2, 3, 4, 5, 1, 2, 3, 4]), tensor([4, 4, 3, 9, 7, 3, 8, 0, 4, 3, 3, 1, 9, 3, 7, 4, 8, 6, 9, 4, 7, 7, 4, 5,\n",
            "        8, 1, 3, 3, 4, 4, 8, 3]), tensor([3, 3, 3, 3, 4, 3, 3, 1, 4, 3, 4, 9, 3, 0, 3, 5, 4, 4, 4, 4, 1, 3, 4, 9,\n",
            "        8, 5, 4, 9, 2, 7, 4, 7]), tensor([3, 5, 5, 8, 3, 2, 4, 5, 5, 7, 4, 0, 4, 7, 1, 4, 4, 8, 7, 2, 0, 7, 7, 7,\n",
            "        4, 7, 4, 1, 4, 7, 4, 5]), tensor([4, 4, 4, 7, 0, 7, 4, 5, 7, 2, 5, 3, 8, 4, 5, 4, 7, 5, 7, 5, 1, 3, 3, 4,\n",
            "        0, 5, 5, 3, 5, 5, 8, 7]), tensor([9, 4, 4, 5, 5, 3, 4, 8, 3, 0, 9, 2, 3, 2, 3, 5, 4, 5, 9, 1, 4, 5, 1, 4,\n",
            "        5, 8, 3, 3, 7, 4, 6, 2]), tensor([3, 4, 6, 3, 0, 7, 4, 3, 8, 8, 7, 3, 7, 4, 6, 4, 8, 3, 5, 1, 3, 9, 1, 6,\n",
            "        7, 3, 7, 4, 4, 6, 2, 7]), tensor([3, 3, 3, 3, 3, 1, 7, 7, 4, 3, 7, 3, 3, 4, 8, 3, 0, 9, 9, 7, 4, 2, 4, 7,\n",
            "        7, 7, 7, 8, 6, 7, 5, 3]), tensor([5, 5, 0, 8, 9, 7, 2, 1, 4, 5, 1, 3, 4, 2, 2, 2, 9, 4, 7, 7, 6, 5, 0, 2,\n",
            "        8, 2, 4, 5, 4, 0, 7, 3]), tensor([3, 4, 4, 5, 4, 8, 7, 7, 5, 1, 5, 4, 4, 8, 5, 4, 4, 8, 7, 7, 4, 7, 1, 6,\n",
            "        8, 5, 8, 9, 3, 5, 0, 7]), tensor([4, 2, 6, 1, 4, 5, 9, 3, 2, 8, 5, 7, 3, 1, 4, 6, 8, 1, 4, 5, 4, 7, 3, 3,\n",
            "        4, 4, 4, 4, 0, 4, 4, 4]), tensor([3, 4, 5, 5, 3, 1, 9, 4, 7, 6, 3, 1, 6, 0, 7, 7, 2, 7, 8, 3, 5, 6, 4, 3,\n",
            "        8, 9, 7, 4, 5, 5, 3, 7]), tensor([2, 4, 1, 9, 7, 8, 1, 3, 7, 3, 4, 3, 4, 6, 5, 4, 7, 7, 9, 7, 0, 4, 2, 3,\n",
            "        4, 6, 7, 5, 3, 6, 2, 8]), tensor([3, 6, 0, 4, 3, 5, 3, 3, 3, 3, 6, 3, 6, 2, 8, 3, 3, 5, 5, 6, 0, 6, 3, 3,\n",
            "        4, 2, 0, 6, 4, 4, 1, 9]), tensor([2, 6, 2, 4, 2, 8, 7, 7, 2, 5, 3, 5, 6, 2, 2, 6, 7, 0, 2, 2, 5, 5, 6, 4,\n",
            "        6, 4, 1, 3, 1, 2, 7, 2]), tensor([3, 9, 7, 3, 5, 7, 3, 4, 6, 4, 2, 3, 4, 3, 4, 8, 6, 2, 3, 4, 4, 2, 1, 4,\n",
            "        1, 1, 3, 3, 2, 3, 4, 0]), tensor([3, 4, 1, 3, 2, 7, 6, 4, 7, 7, 5, 4, 5, 3, 5, 9, 8, 4, 4, 3, 4, 0, 9, 4,\n",
            "        4, 4, 3, 8, 3, 3, 4, 7]), tensor([6, 4, 7, 3, 7, 8, 4, 2, 4, 4, 3, 6, 1, 5, 6, 7, 4, 7, 4, 0, 3, 4, 0, 0,\n",
            "        7, 3, 5, 7, 1, 5, 7, 4]), tensor([1, 7, 6, 1, 2, 5, 3, 8, 8, 4, 1, 7, 0, 5, 2, 4, 4, 7, 1, 7, 9, 4, 3, 5,\n",
            "        2, 2, 5, 3, 5, 8, 8, 4]), tensor([4, 7, 7, 4, 2, 2, 7, 5, 3, 6, 2, 7, 2, 4, 5, 2, 9, 1, 3, 1, 2, 5, 9, 3,\n",
            "        7, 0, 3, 7, 2, 1, 7, 8]), tensor([5, 6, 6, 9, 1, 7, 1, 7, 3, 4, 3, 3, 4, 0, 2, 8, 3, 3, 2, 4, 3, 3, 4, 4,\n",
            "        1, 6, 3, 3, 4, 2, 3, 3]), tensor([0, 4, 6, 6, 6, 4, 3, 5, 2, 3, 0, 4, 5, 5, 1, 6, 0, 6, 0, 0, 8, 9, 1, 6,\n",
            "        5, 4, 8, 1, 7, 1, 6, 4]), tensor([7, 4, 6, 1, 5, 3, 3, 5, 8, 5, 7, 5, 2, 5, 5, 4, 4, 2, 6, 4, 4, 9, 9, 5,\n",
            "        8, 0, 4, 4, 1, 3, 5, 3]), tensor([6, 0, 5, 8, 5, 3, 6, 7, 1, 5, 5, 8, 4, 6, 9, 7, 1, 2, 6, 4, 2, 4, 5, 1,\n",
            "        5, 4, 4, 3, 4, 8, 3, 4]), tensor([6, 0, 3, 3, 7, 4, 4, 3, 7, 3, 3, 7, 9, 5, 3, 5, 8, 9, 3, 4, 3, 1, 3, 8,\n",
            "        3, 5, 5, 8, 2, 4, 2, 7]), tensor([2, 7, 5, 2, 8, 7, 8, 2, 4, 7, 1, 1, 1, 9, 8, 4, 4, 1, 1, 6, 6, 8, 7, 1,\n",
            "        2, 7, 1, 1, 7, 0, 3, 1]), tensor([4, 4, 4, 6, 4, 7, 3, 7, 3, 4, 4, 4, 3, 3, 4, 3, 4, 5, 5, 8, 3, 7, 2, 4,\n",
            "        9, 0, 2, 1, 4, 5, 1, 4]), tensor([4, 7, 6, 4, 5, 9, 1, 4, 3, 1, 6, 8, 6, 3, 3, 2, 2, 3, 4, 3, 4, 7, 2, 3,\n",
            "        4, 2, 4, 7, 4, 6, 1, 0]), tensor([4, 2, 4, 7, 9, 6, 4, 4, 3, 6, 8, 7, 4, 4, 0, 3, 2, 5, 2, 5, 1, 7, 7, 1,\n",
            "        7, 7, 2, 2, 4, 4, 6, 9]), tensor([6, 4, 4, 4, 4, 1, 8, 3, 4, 2, 1, 4, 4, 3, 6, 8, 5, 4, 5, 0, 2, 4, 3, 9,\n",
            "        8, 4, 4, 1, 0, 4, 4, 4]), tensor([3, 3, 7, 5, 3, 4, 4, 6, 8, 4, 4, 1, 8, 4, 8, 2, 9, 2, 4, 8, 5, 2, 7, 3,\n",
            "        2, 4, 3, 4, 4, 8, 5, 4]), tensor([1, 5, 2, 8, 2, 9, 3, 3, 3, 4, 4, 4, 7, 7, 9, 2, 4, 5, 8, 3, 5, 8, 7, 7,\n",
            "        0, 7, 7, 0, 7, 7, 4, 5]), tensor([7, 4, 4, 2, 4, 8, 3, 1, 9, 8, 4, 4, 4, 4, 3, 8, 0, 7, 4, 4, 3, 8, 1, 3,\n",
            "        8, 7, 3, 6, 3, 4, 8, 8]), tensor([5, 3, 3, 2, 1, 4, 8, 3, 4, 2, 5, 3, 9, 4, 5, 6, 4, 2, 5, 7, 0, 8, 3, 5,\n",
            "        5, 4, 5, 5, 5, 3, 2, 6]), tensor([9, 8, 7, 3, 7, 7, 4, 7, 6, 4, 3, 4, 4, 6, 0, 3, 6, 9, 7, 1, 3, 4, 2, 7,\n",
            "        7, 1, 2, 6, 6, 6, 3, 5]), tensor([4, 5, 2, 8, 7, 4, 5, 5, 0, 4, 3, 1, 5, 5, 5, 4, 8, 1, 5, 5, 7, 7, 9, 4,\n",
            "        3, 1, 3, 4, 3, 6, 7, 3]), tensor([4, 4, 4, 3, 4, 5, 4, 9, 0, 2, 8, 4, 4, 4, 3, 4, 1, 4, 3, 3, 4, 4, 7, 7,\n",
            "        3, 7, 7, 5, 3, 1, 7, 4]), tensor([4, 4, 5, 4, 1, 4, 3, 5, 2, 4, 5, 3, 2, 8, 3, 4, 4, 2, 5, 4, 5, 3, 1, 4,\n",
            "        6, 7, 9, 0, 3, 3, 7, 5]), tensor([3, 2, 1, 3, 3, 8, 3, 7, 8, 4, 4, 3, 8, 7, 7, 8, 3, 8, 3, 9, 4, 6, 0, 7,\n",
            "        6, 6, 8, 7, 6, 3, 4, 7]), tensor([6, 4, 0, 2, 7, 7, 3, 1, 3, 2, 3, 8, 8, 7, 3, 3, 7, 3, 7, 3, 1, 8, 1, 4,\n",
            "        7, 4, 5, 3, 1, 3, 3, 3]), tensor([3, 0, 6, 4, 1, 7, 7, 1, 2, 2, 5, 3, 4, 1, 7, 2, 7, 6, 2, 8, 2, 1, 3, 7,\n",
            "        7, 3, 3, 4, 9, 3, 5, 2]), tensor([5, 3, 8, 4, 7, 1, 4, 1, 9, 4, 4, 4, 2, 4, 4, 1, 1, 5, 8, 8, 1, 6, 2, 9,\n",
            "        0, 9, 5, 3, 5, 6, 6, 5]), tensor([4, 8, 3, 8, 0, 8, 9, 5, 1, 5, 3, 2, 4, 5, 3, 3, 3, 3, 7, 4, 6, 4, 1, 9,\n",
            "        5, 1, 7, 5, 5, 5, 7, 4]), tensor([8, 4, 2, 6, 4, 4, 2, 1, 1, 4, 4, 8, 4, 8, 0, 5, 8, 1, 3, 4, 3, 2, 4, 8,\n",
            "        3, 2, 5, 3, 2, 9, 7, 4]), tensor([3, 2, 6, 8, 9, 4, 3, 4, 7, 7, 5, 7, 3, 4, 5, 4, 7, 3, 0, 2, 0, 4, 4, 3,\n",
            "        0, 1, 5, 5, 8, 6, 3, 5]), tensor([2, 6, 4, 5, 6, 3, 5, 6, 7, 7, 2, 6, 9, 5, 1, 4, 4, 5, 3, 2, 6, 1, 4, 6,\n",
            "        5, 4, 8, 7, 7, 6, 0, 8]), tensor([3, 5, 4, 2, 7, 8, 5, 3, 8, 1, 8, 5, 0, 1, 5, 3, 3, 3, 3, 4, 2, 3, 3, 7,\n",
            "        8, 6, 9, 8, 3, 6, 4, 2]), tensor([9, 3, 5, 7, 3, 7, 8, 4, 6, 2, 4, 3, 1, 0, 7, 5, 6, 4, 4, 1, 1, 4, 7, 2,\n",
            "        3, 5, 9, 2, 4, 4, 4, 9]), tensor([7, 9, 4, 6, 7, 4, 3, 7, 3, 1, 4, 7, 0, 1, 8, 5, 4, 4, 4, 7, 8, 7, 2, 4,\n",
            "        6, 4, 4, 2, 4, 7, 5, 1]), tensor([5, 5, 4, 5, 3, 3, 2, 4, 5, 4, 1, 5, 8, 6, 4, 1, 9, 4, 7, 1, 1, 0, 2, 7,\n",
            "        5, 1, 5, 5, 5, 3, 1, 5]), tensor([5, 9, 7, 8, 2, 1, 0, 3, 0, 2, 0, 7, 9, 6, 4, 5, 4, 3, 4, 1, 1, 7, 3, 5,\n",
            "        5, 4, 7, 3, 9, 0, 7, 4]), tensor([6, 6, 5, 5, 8, 4, 8, 4, 7, 4, 5, 4, 9, 4, 5, 7, 3, 5, 7, 3, 3, 4, 2, 4,\n",
            "        7, 9, 4, 0, 4, 4, 1, 0]), tensor([3, 4, 4, 4, 4, 4, 2, 3, 7, 7, 7, 8, 7, 4, 3, 2, 1, 2, 3, 2, 7, 4, 2, 3,\n",
            "        6, 4, 3, 3, 4, 7, 0, 9]), tensor([7, 2, 1, 4, 3, 6, 3, 4, 4, 3, 5, 4, 3, 3, 3, 9, 3, 5, 0, 4, 4, 3, 1, 5,\n",
            "        3, 4, 8, 5, 7, 4, 6, 4]), tensor([1, 2, 6, 4, 5, 5, 6, 7, 2, 3, 8, 4, 4, 3, 4, 9, 4, 7, 0, 8, 2, 8, 6, 4,\n",
            "        6, 1, 3, 9, 4, 2, 5, 4]), tensor([5, 3, 4, 5, 6, 6, 8, 0, 6, 9, 1, 3, 3, 3, 5, 5, 4, 3, 1, 4, 9, 7, 4, 4,\n",
            "        7, 5, 7, 1, 4, 8, 7, 9]), tensor([7, 5, 0, 1, 9, 4, 5, 0, 7, 8, 4, 5, 2, 5, 1, 3, 1, 5, 9, 4, 5, 7, 7, 3,\n",
            "        8, 1, 5, 6, 5, 3, 1, 5]), tensor([3, 9, 5, 1, 3, 4, 5, 1, 4, 4, 5, 3, 4, 7, 7, 1, 3, 1, 2, 4, 3, 8, 7, 9,\n",
            "        9, 4, 4, 4, 5, 0, 7, 3]), tensor([4, 6, 8, 2, 4, 4, 0, 1, 4, 0, 2, 1, 5, 6, 6, 6, 0, 3, 4, 5, 6, 3, 7, 6,\n",
            "        6, 3, 1, 4, 6, 8, 9, 7]), tensor([5, 5, 8, 2, 3, 4, 4, 2, 5, 4, 9, 2, 7, 1, 0, 2, 4, 6, 9, 8, 3, 2, 9, 1,\n",
            "        9, 4, 7, 3, 5, 4, 3, 4]), tensor([2, 1, 0, 2, 4, 3, 7, 8, 4, 5, 5, 9, 2, 4, 3, 4, 5, 5, 5, 7, 2, 1, 4, 3,\n",
            "        7, 2, 5, 7, 6, 8, 3, 5]), tensor([5, 8, 1, 9, 4, 3, 4, 3, 3, 3, 3, 3, 2, 9, 3, 8, 1, 3, 7, 8, 2, 5, 9, 3,\n",
            "        8, 3, 4, 4, 3, 7, 0, 7]), tensor([3, 3, 2, 3, 7, 1, 4, 2, 3, 4, 6, 6, 6, 4, 8, 7, 0, 3, 3, 4, 7, 3, 3, 6,\n",
            "        6, 2, 4, 4, 1, 8, 3, 9]), tensor([3, 2, 3, 4, 6, 5, 3, 3, 5, 3, 5, 8, 3, 9, 7, 3, 0, 3, 1, 6, 1, 6, 7, 7,\n",
            "        4, 8, 9, 6, 1, 5, 4, 9]), tensor([4, 7, 7, 7, 6, 0, 1, 0, 9, 7, 5, 1, 7, 2, 6, 3, 5, 6, 8, 1, 7, 3, 3, 8,\n",
            "        4, 7, 4, 6, 9, 6, 4, 4]), tensor([5, 6, 4, 5, 9, 1, 0, 5, 3, 1, 7, 4, 4, 7, 4, 5, 8, 3, 7, 1, 7, 1, 8, 8,\n",
            "        8, 7, 8, 6, 1, 1, 7, 5]), tensor([4, 5, 4, 3, 4, 2, 4, 2, 3, 5, 5, 1, 9, 5, 8, 4, 4, 4, 4, 2, 7, 2, 8, 3,\n",
            "        0, 7, 8, 4, 3, 5, 5, 5]), tensor([7, 2, 6, 7, 7, 5, 7, 4, 5, 7, 0, 3, 8, 8, 3, 5, 3, 1, 4, 9, 1, 0, 8, 5,\n",
            "        1, 7, 8, 0, 3, 3, 6, 5]), tensor([3, 4, 3, 3, 0, 6, 9, 7, 3, 7, 3, 3, 4, 8, 3, 7, 5, 4, 4, 3, 5, 4, 3, 3,\n",
            "        4, 2, 7, 1, 3, 3, 4, 4]), tensor([5, 6, 4, 6, 3, 5, 5, 3, 3, 4, 3, 3, 4, 4, 0, 9, 0, 7, 6, 7, 3, 2, 9, 7,\n",
            "        4, 4, 6, 3, 7, 1, 4, 7]), tensor([6, 4, 7, 3, 6, 3, 4, 5, 8, 0, 4, 1, 7, 9, 6, 4, 9, 2, 6, 7, 1, 7, 5, 2,\n",
            "        9, 8, 4, 4, 6, 4, 3, 2]), tensor([2, 4, 1, 2, 8, 1, 8, 4, 0, 1, 4, 7, 3, 7, 7, 3, 3, 5, 5, 2, 2, 4, 4, 4,\n",
            "        9, 3, 4, 7, 4, 1, 3, 7]), tensor([4, 3, 4, 6, 3, 8, 3, 4, 4, 3, 4, 3, 9, 0, 5, 3, 5, 3, 6, 4, 1, 6, 0, 7,\n",
            "        6, 4, 4, 3, 4, 4, 5, 2]), tensor([9, 8, 8, 0, 4, 4, 3, 1, 7, 5, 3, 3, 3, 2, 8, 3, 8, 4, 4, 2, 5, 1, 4, 2,\n",
            "        2, 1, 7, 3, 4, 4, 9, 7]), tensor([8, 0, 4, 3, 4, 6, 8, 1, 2, 3, 3, 1, 5, 5, 3, 4, 4, 7, 1, 3, 4, 3, 6, 4,\n",
            "        4, 4, 8, 6, 8, 4, 7, 0]), tensor([3, 1, 3, 4, 3, 4, 1, 2, 6, 0, 6, 7, 7, 4, 3, 2, 7, 5, 4, 6, 5, 5, 4, 0,\n",
            "        8, 7, 0, 6, 3, 7, 7, 0]), tensor([2, 5, 1, 6, 5, 2, 3, 5, 7, 5, 4, 6, 7, 1, 8, 0, 4, 4, 4, 2, 7, 4, 2, 4,\n",
            "        4, 4, 9, 7, 3, 4, 5, 4]), tensor([5, 1, 7, 5, 3, 3, 8, 4, 1, 7, 7, 3, 3, 3, 3, 5, 1, 3, 3, 7, 5, 3, 8, 2,\n",
            "        4, 1, 4, 0, 3, 7, 5, 3]), tensor([3, 3, 2, 3, 0, 7, 8, 1, 3, 7, 3, 7, 7, 7, 4, 2, 3, 6, 8, 8, 5, 5, 1, 0,\n",
            "        8, 5, 7, 9, 7, 3, 4, 4]), tensor([2, 8, 7, 4, 8, 7, 5, 4, 7, 4, 1, 4, 4, 2, 0, 8, 4, 3, 5, 1, 1, 5, 8, 3,\n",
            "        2, 4, 2, 2, 6, 4, 9, 5]), tensor([2, 4, 4, 4, 6, 1, 5, 4, 7, 8, 4, 5, 7, 0, 8, 4, 3, 4, 5, 1, 4, 1, 7, 4,\n",
            "        3, 4, 9, 5, 2, 4, 4, 3]), tensor([3, 3, 7, 3, 2, 7, 8, 9, 7, 3, 7, 4, 7, 7, 7, 3, 7, 4, 4, 9, 0, 1, 4, 7,\n",
            "        5, 4, 5, 3, 7, 4, 4, 3]), tensor([5, 6, 5, 9, 0, 9, 5, 9, 4, 4, 1, 5, 8, 0, 5, 0, 6, 6, 5, 0, 2, 3, 7, 1,\n",
            "        0, 1, 0, 7, 5, 4, 6, 4]), tensor([7, 1, 1, 5, 1, 4, 8, 1, 5, 4, 7, 3, 2, 3, 4, 7, 1, 6, 7, 0, 9, 5, 4, 6,\n",
            "        7, 1, 5, 0, 9, 7, 3, 1]), tensor([3, 5, 7, 3, 4, 3, 1, 5, 0, 2, 7, 1, 3, 4, 3, 3, 3, 4, 2, 3, 8, 4, 4, 9,\n",
            "        5, 3, 1, 8, 4, 4, 3, 4]), tensor([4, 9, 4, 3, 7, 7, 8, 3, 5, 4, 5, 7, 8, 5, 3, 0, 3, 2, 4, 4, 1, 5, 4, 4,\n",
            "        6, 5, 5, 4, 4, 2, 6, 1]), tensor([4, 9, 7, 7, 2, 1, 2, 2, 0, 4, 4, 2, 5, 5, 4, 8, 4, 4, 1, 5, 9, 2, 1, 2,\n",
            "        7, 3, 1, 7, 1, 3, 1, 5]), tensor([1, 3, 8, 9, 7, 4, 5, 4, 0, 5, 4, 5, 5, 7, 3, 4, 7, 4, 7, 4, 4, 7, 2, 6,\n",
            "        4, 4, 0, 7, 4, 4, 3, 7]), tensor([3, 1, 8, 4, 8, 7, 4, 6, 5, 2, 3, 0, 5, 3, 2, 8, 2, 3, 7, 4, 3, 9, 7, 4,\n",
            "        4, 3, 7, 2, 4, 2, 3, 7]), tensor([7, 3, 1, 9, 5, 8, 8, 4, 8, 4, 1, 8, 2, 3, 6, 2, 8, 8, 9, 4, 8, 4, 3, 7,\n",
            "        9, 0, 8, 7, 8, 3, 8, 4]), tensor([1, 8, 6, 7, 6, 4, 6, 5, 2, 7, 3, 4, 4, 1, 1, 6, 4, 1, 6, 7, 6, 5, 7, 1,\n",
            "        7, 0, 9, 4, 2, 1, 7, 6]), tensor([7, 4, 8, 9, 4, 3, 3, 2, 2, 6, 3, 4, 1, 1, 9, 4, 9, 7, 3, 3, 2, 5, 5, 5,\n",
            "        4, 2, 9, 3, 3, 0, 6, 4]), tensor([1, 7, 4, 9, 4, 2, 5, 4, 4, 0, 1, 3, 4, 4, 3, 6, 4, 6, 2, 8, 3, 2, 4, 6,\n",
            "        1, 6, 4, 5, 4, 4, 3, 9]), tensor([0, 4, 3, 4, 5, 4, 2, 7, 3, 5, 3, 3, 4, 9, 4, 8, 5, 3, 6, 3, 6, 5, 4, 5,\n",
            "        3, 1, 1, 9, 9, 5, 4, 2]), tensor([1, 4, 4, 5, 7, 4, 5, 5, 3, 3, 0, 9, 4, 4, 8, 3, 6, 4, 7, 4, 3, 3, 3, 2,\n",
            "        6, 4, 1, 3, 7, 6, 4, 3]), tensor([4, 3, 4, 3, 0, 8, 3, 5, 1, 4, 3, 8, 2, 1, 3, 1, 1, 5, 6, 7, 9, 6, 8, 6,\n",
            "        3, 4, 3, 8, 3, 7, 5, 4]), tensor([1, 1, 4, 4, 5, 5, 0, 1, 6, 5, 2, 8, 9, 7, 7, 1, 1, 3, 3, 5, 3, 7, 5, 9,\n",
            "        4, 7, 3, 3, 4, 2, 8, 7]), tensor([2, 5, 5, 8, 3, 8, 1, 3, 0, 2, 5, 2, 5, 2, 4, 9, 6, 7, 1, 2, 8, 3, 7, 7,\n",
            "        0, 7, 9, 2, 5, 7, 0, 1]), tensor([4, 1, 2, 3, 4, 4, 7, 4, 5, 1, 8, 5, 5, 3, 3, 1, 6, 3, 4, 5, 3, 8, 2, 3,\n",
            "        4, 9, 3, 1, 5, 3, 0, 5]), tensor([6, 6, 4, 5, 3, 4, 4, 3, 4, 3, 3, 8, 3, 7, 2, 4, 4, 3, 1, 9, 3, 3, 4, 3,\n",
            "        1, 3, 3, 3, 0, 3, 2, 4]), tensor([3, 4, 6, 3, 3, 5, 4, 9, 7, 5, 3, 5, 5, 5, 4, 4, 8, 0, 7, 3, 8, 8, 2, 1,\n",
            "        9, 7, 7, 3, 8, 0, 3, 6]), tensor([9, 8, 5, 6, 4, 4, 1, 5, 5, 5, 2, 1, 6, 1, 3, 4, 4, 4, 4, 4, 7, 4, 4, 2,\n",
            "        4, 3, 4, 2, 4, 4, 3, 0]), tensor([8, 8, 4, 4, 2, 0, 7, 0, 8, 9, 1, 4, 4, 7, 6, 8, 1, 4, 3, 3, 4, 7, 5, 7,\n",
            "        9, 5, 3, 5, 4, 4, 3, 2]), tensor([1, 4, 5, 4, 4, 7, 3, 4, 4, 9, 1, 8, 6, 6, 4, 4, 2, 3, 4, 4, 1, 4, 4, 3,\n",
            "        4, 1, 5, 4, 1, 0, 7, 4]), tensor([5, 0, 3, 2, 3, 3, 4, 7, 4, 4, 5, 5, 5, 5, 1, 3, 4, 7, 3, 9, 7, 3, 6, 7,\n",
            "        4, 3, 3, 8, 4, 4, 5, 3]), tensor([8, 3, 1, 1, 1, 7, 8, 7, 1, 3, 7, 7, 4, 5, 7, 8, 4, 3, 9, 1, 7, 3, 3, 8,\n",
            "        4, 3, 1, 1, 1, 8, 2, 0]), tensor([3, 8, 4, 5, 0, 3, 5, 4, 3, 8, 7, 4, 8, 4, 2, 6, 3, 3, 7, 3, 4, 7, 4, 4,\n",
            "        7, 1, 4, 5, 4, 4, 7, 9]), tensor([6, 2, 8, 0, 3, 1, 8, 8, 3, 5, 7, 5, 2, 5, 4, 3, 5, 3, 8, 9, 0, 2, 0, 4,\n",
            "        5, 7, 0, 2, 6, 7, 7, 7]), tensor([4, 8, 5, 8, 3, 1, 3, 5, 4, 5, 4, 3, 5, 5, 4, 0, 8, 2, 9, 1, 5, 5, 6, 7,\n",
            "        1, 4, 5, 2, 3, 8, 7, 4]), tensor([3, 3, 9, 3, 4, 0, 8, 9, 8, 5, 6, 1, 3, 7, 5, 1, 7, 7, 4, 0, 7, 7, 2, 7,\n",
            "        2, 1, 2, 7, 5, 1, 6, 7]), tensor([3, 4, 7, 4, 4, 4, 8, 5, 7, 9, 5, 7, 4, 4, 3, 5, 3, 4, 1, 5, 4, 9, 7, 4,\n",
            "        2, 4, 5, 4, 0, 7, 5, 3]), tensor([4, 3, 4, 8, 4, 3, 4, 9, 8, 5, 2, 5, 3, 3, 3, 4, 3, 3, 3, 8, 7, 4, 3, 7,\n",
            "        1, 2, 8, 5, 4, 3, 6, 0]), tensor([4, 4, 0, 7, 4, 3, 8, 4, 8, 7, 9, 4, 1, 3, 5, 7, 7, 3, 4, 5, 8, 0, 4, 7,\n",
            "        3, 4, 3, 7, 6, 7, 3, 7]), tensor([1, 4, 1, 9, 7, 4, 4, 4, 4, 1, 8, 3, 5, 0, 8, 3, 8, 7, 7, 4, 9, 0, 6, 4,\n",
            "        4, 2, 4, 4, 4, 3, 7, 4]), tensor([7, 1, 3, 7, 6, 9, 5, 5, 4, 4, 4, 5, 0, 4, 3, 3, 4, 6, 8, 3, 7, 4, 7, 1,\n",
            "        5, 1, 4, 1, 3, 3, 3, 2]), tensor([4, 3, 7, 3, 9, 2, 3, 5, 7, 0, 5, 4, 3, 4, 3, 4, 2, 3, 3, 3, 4, 3, 3, 1,\n",
            "        3, 3, 3, 4, 3, 7, 3, 8]), tensor([5, 3, 8, 3, 5, 3, 8, 5, 8, 7, 3, 6, 5, 6, 2, 1, 6, 3, 6, 3, 6, 0, 7, 3,\n",
            "        8, 6, 3, 7, 4, 9, 5, 8]), tensor([4, 3, 5, 5, 6, 8, 2, 7, 3, 5, 3, 0, 5, 7, 8, 9, 4, 8, 8, 5, 8, 1, 4, 5,\n",
            "        4, 6, 2, 3, 3, 1, 1, 7]), tensor([4, 4, 4, 5, 9, 8, 7, 7, 3, 4, 7, 9, 3, 0, 1, 3, 1, 4, 4, 3, 8, 3, 5, 7,\n",
            "        4, 7, 3, 4, 4, 3, 4, 4]), tensor([6, 6, 5, 7, 4, 9, 7, 6, 2, 4, 0, 7, 4, 5, 6, 3, 6, 1, 7, 4, 1, 8, 6, 6,\n",
            "        3, 9, 1, 9, 7, 6, 9, 0]), tensor([9, 4, 3, 4, 8, 3, 4, 4, 6, 5, 2, 1, 3, 6, 3, 6, 7, 0, 4, 1, 1, 3, 2, 3,\n",
            "        1, 7, 8, 7, 3, 5, 4, 4]), tensor([2, 4, 4, 6, 4, 6, 2, 3, 5, 7, 5, 8, 7, 3, 4, 7, 8, 9, 4, 1, 1, 7, 0, 7,\n",
            "        2, 0, 7, 6, 0, 4, 7, 2]), tensor([8, 5, 5, 7, 3, 3, 5, 7, 1, 3, 3, 3, 5, 4, 6, 4, 1, 4, 9, 1, 4, 8, 3, 2,\n",
            "        2, 6, 4, 6, 4, 5, 0, 3]), tensor([0, 5, 3, 1, 8, 4, 5, 3, 5, 1, 6, 6, 3, 2, 2, 9, 9, 6, 3, 8, 5, 4, 6, 9,\n",
            "        1, 5, 7, 7, 4, 2, 4, 7]), tensor([5, 3, 3, 3, 7, 7, 8, 4, 8, 3, 7, 4, 6, 3, 5, 8, 0, 2, 7, 3, 1, 3, 8, 2,\n",
            "        4, 4, 4, 7, 3, 8, 4, 3]), tensor([3, 4, 4, 3, 7, 8, 2, 3, 8, 3, 7, 4, 1, 5, 4, 5, 3, 8, 4, 2, 7, 9, 3, 6,\n",
            "        4, 7, 4, 7, 7, 7, 3, 0]), tensor([4, 9, 7, 4, 7, 4, 2, 2, 4, 6, 1, 4, 3, 5, 4, 0, 3, 4, 4, 6, 5, 4, 7, 3,\n",
            "        5, 4, 3, 4, 5, 5, 3, 2]), tensor([3, 1, 4, 7, 3, 2, 3, 3, 4, 3, 4, 8, 8, 5, 3, 0, 9, 4, 3, 3, 3, 4, 2, 4,\n",
            "        4, 3, 7, 4, 7, 1, 7, 3]), tensor([3, 3, 6, 6, 0, 7, 9, 5, 1, 0, 4, 6, 4, 6, 6, 5, 6, 6, 9, 8, 5, 8, 0, 4,\n",
            "        1, 4, 8, 7, 6, 6, 2, 3]), tensor([5, 3, 3, 5, 2, 5, 3, 9, 1, 2, 9, 8, 7, 3, 8, 8, 5, 5, 8, 4, 4, 0, 8, 3,\n",
            "        3, 4, 9, 4, 1, 0, 5, 1]), tensor([4, 0, 7, 0, 6, 3, 4, 7, 4, 6, 4, 4, 8, 5, 1, 8, 3, 4, 4, 5, 0, 0, 7, 8,\n",
            "        7, 4, 4, 2, 0, 9, 3, 5]), tensor([6, 9, 9, 2, 1, 3, 7, 1, 9, 4, 5, 4, 4, 5, 5, 7, 9, 4, 2, 8, 3, 4, 7, 8,\n",
            "        8, 4, 4, 2, 4, 5, 7, 1]), tensor([7, 6, 2, 1, 7, 1, 9, 0, 0, 0, 2, 2, 7, 3, 5, 0, 7, 4, 2, 6, 7, 7, 4, 2,\n",
            "        3, 8, 7, 2, 2, 6, 4, 1]), tensor([2, 5, 5, 4, 5, 0, 3, 6, 5, 5, 0, 3, 1, 3, 8, 2, 0, 4, 6, 5, 0, 8, 0, 7,\n",
            "        4, 6, 3, 7, 6, 3, 7, 6]), tensor([2, 3, 9, 4, 1, 4, 6, 4, 4, 4, 3, 3, 4, 4, 7, 1, 4, 4, 8, 4, 7, 9, 8, 6,\n",
            "        3, 0, 4, 5, 7, 4, 7, 4]), tensor([5, 0, 2, 3, 3, 3, 2, 3, 4, 4, 4, 2, 4, 5, 7, 6, 7, 4, 3, 2, 2, 1, 5, 5,\n",
            "        7, 9, 2, 5, 8, 2, 5, 3]), tensor([7, 5, 3, 8, 5, 5, 8, 6, 0, 4, 6, 4, 3, 7, 8, 2, 1, 4, 2, 4, 1, 1, 4, 4,\n",
            "        3, 5, 4, 3, 9, 3, 4, 4]), tensor([3, 7, 2, 9, 4, 1, 4, 7, 5, 5, 7, 2, 6, 7, 7, 7, 7, 4, 1, 8, 3, 3, 8, 0,\n",
            "        8, 7, 6, 7, 7, 5, 4, 4]), tensor([3, 3, 5, 4, 3, 5, 4, 0, 5, 8, 4, 7, 6, 1, 3, 5, 4, 2, 1, 4, 1, 8, 7, 9,\n",
            "        9, 7, 3, 2, 4, 4, 7, 4]), tensor([3, 9, 6, 3, 9, 5, 1, 0, 7, 3, 7, 4, 3, 5, 3, 4, 7, 4, 8, 7, 7, 4, 9, 7,\n",
            "        4, 3, 3, 0, 2, 8, 5, 3]), tensor([1, 9, 3, 5, 3, 3, 3, 4, 4, 4, 5, 7, 4, 3, 1, 7, 7, 7, 0, 3, 4, 3, 5, 2,\n",
            "        5, 3, 7, 3, 7, 7, 6, 8]), tensor([5, 3, 6, 9, 5, 4, 9, 7, 9, 7, 1, 2, 3, 8, 3, 4, 3, 4, 4, 5, 5, 6, 9, 3,\n",
            "        3, 4, 5, 4, 9, 3, 4, 7]), tensor([1, 3, 4, 8, 4, 5, 3, 5, 4, 4, 2, 3, 4, 4, 4, 3, 6, 8, 7, 3, 3, 0, 5, 4,\n",
            "        1, 5, 0, 7, 5, 3, 3, 4]), tensor([6, 1, 2, 6, 5, 5, 2, 4, 0, 5, 2, 3, 8, 2, 8, 3, 7, 5, 3, 3, 9, 5, 5, 3,\n",
            "        3, 5, 4, 5, 3, 5, 2, 5]), tensor([5, 5, 8, 7, 4, 9, 5, 2, 3, 6, 3, 0, 4, 7, 4, 4, 2, 5, 4, 1, 5, 7, 7, 7,\n",
            "        3, 7, 4, 8, 5, 1, 5, 3]), tensor([3, 6, 4, 4, 2, 7, 6, 9, 4, 4, 4, 4, 4, 4, 7, 7, 1, 2, 4, 7, 0, 3, 2, 4,\n",
            "        7, 4, 7, 7, 1, 1, 3, 8]), tensor([7, 5, 7, 3, 3, 3, 3, 4, 4, 4, 7, 1, 4, 0, 1, 5, 3, 4, 5, 2, 4, 3, 4, 3,\n",
            "        7, 7, 4, 7, 3, 4, 3, 8]), tensor([3, 3, 5, 4, 0, 4, 3, 4, 4, 3, 1, 8, 4, 3, 2, 9, 5, 4, 4, 5, 4, 1, 6, 4,\n",
            "        4, 5, 6, 6, 7, 3, 6, 4]), tensor([7, 8, 8, 3, 4, 4, 4, 3, 3, 8, 5, 1, 8, 5, 2, 8, 7, 8, 9, 5, 8, 2, 6, 8,\n",
            "        4, 6, 8, 8, 8, 0, 5, 6]), tensor([2, 2, 6, 2, 7, 7, 2, 3, 5, 4, 6, 3, 0, 8, 9, 5, 7, 3, 3, 2, 4, 3, 6, 2,\n",
            "        1, 4, 2, 2, 6, 5, 8, 5]), tensor([1, 4, 4, 0, 7, 6, 3, 8, 0, 7, 1, 6, 5, 8, 5, 5, 4, 9, 4, 3, 3, 4, 5, 0,\n",
            "        8, 3, 4, 6, 3, 6, 6, 6]), tensor([0, 0, 5, 7, 4, 7, 1, 5, 4, 0, 4, 1, 7, 7, 4, 6, 4, 5, 2, 7, 4, 9, 8, 8,\n",
            "        7, 6, 2, 2, 5, 3, 6, 7]), tensor([6, 4, 5, 0, 2, 1, 0, 5, 7, 3, 5, 9, 2, 3, 4, 8, 5, 8, 1, 5, 6, 7, 8, 7,\n",
            "        3, 6, 2, 5, 8, 8, 8, 8]), tensor([7, 4, 0, 6, 1, 6, 9, 6, 0, 7, 5, 8, 6, 7, 6, 6, 8, 3, 2, 8, 5, 8, 6, 1,\n",
            "        1, 7, 4, 0, 6, 8, 8, 6]), tensor([9, 6, 3, 3, 4, 4, 3, 4, 1, 1, 4, 7, 2, 7, 0, 4, 2, 8, 8, 6, 7, 7, 1, 2,\n",
            "        6, 4, 1, 4, 2, 2, 5, 4]), tensor([2, 4, 8, 3, 1, 8, 8, 4, 4, 6, 8, 8, 8, 0, 3, 4, 5, 8, 7, 8, 7, 2, 1, 1,\n",
            "        8, 7, 8, 6, 4, 9, 4, 3]), tensor([6, 9, 4, 0, 4, 5, 7, 6, 6, 2, 3, 9, 6, 4, 3, 7, 8, 6, 4, 6, 1, 0, 9, 9,\n",
            "        4, 5, 3, 4, 8, 9, 8, 6]), tensor([4, 1, 4, 0, 5, 6, 7, 0, 4, 5, 2, 3, 4, 9, 5, 5, 5, 4, 0, 4, 1, 1, 8, 9,\n",
            "        4, 4, 2, 3, 3, 0, 7, 1]), tensor([8, 8, 5, 3, 3, 7, 7, 1, 3, 3, 4, 1, 9, 3, 4, 3, 3, 6, 7, 3, 7, 3, 7, 2,\n",
            "        3, 8, 7, 2, 6, 4, 2, 7]), tensor([3, 4, 1, 4, 7, 6, 0, 5, 6, 8, 2, 5, 5, 3, 5, 9, 1, 8, 5, 3, 3, 2, 4, 3,\n",
            "        7, 3, 5, 4, 4, 0, 7, 4]), tensor([4, 3, 5, 4, 3, 4, 7, 7, 7, 7, 0, 9, 4, 3, 7, 4, 1, 7, 8, 4, 3, 7, 4, 5,\n",
            "        5, 4, 7, 1, 2, 1, 4, 3]), tensor([9, 2, 6, 7, 2, 2, 7, 3, 2, 6, 7, 9, 1, 2, 7, 7, 7, 2, 5, 1, 4, 6, 2, 3,\n",
            "        8, 7, 4, 2, 1, 0, 6, 3]), tensor([7, 4, 8, 7, 4, 3, 3, 0, 7, 4, 4, 6, 9, 9, 4, 3, 7, 3, 2, 1, 5, 3, 4, 3,\n",
            "        5, 3, 3, 4, 4, 7, 4, 7]), tensor([4, 2, 4, 7, 4, 4, 4, 7, 4, 3, 4, 6, 7, 7, 8, 0, 9, 4, 2, 4, 2, 7, 7, 1,\n",
            "        5, 7, 3, 3, 1, 4, 3, 5]), tensor([6, 3, 9, 4, 3, 4, 4, 2, 7, 5, 4, 6, 7, 9, 8, 3, 4, 1, 3, 2, 5, 5, 6, 1,\n",
            "        2, 6, 6, 1, 4, 0, 7, 6]), tensor([3, 4, 2, 4, 4, 5, 3, 6, 3, 7, 9, 5, 3, 5, 4, 6, 4, 8, 7, 3, 3, 8, 7, 6,\n",
            "        6, 4, 4, 2, 4, 0, 1, 5]), tensor([3, 4, 4, 7, 4, 5, 3, 7, 9, 5, 1, 8, 3, 0, 9, 3, 3, 4, 4, 2, 5, 4, 6, 5,\n",
            "        4, 4, 1, 5, 5, 7, 3, 7]), tensor([5, 4, 4, 2, 7, 4, 7, 3, 7, 2, 4, 5, 5, 2, 2, 7, 4, 6, 2, 4, 6, 4, 7, 2,\n",
            "        2, 4, 4, 1, 9, 3, 8, 3]), tensor([9, 7, 1, 7, 4, 2, 4, 8, 5, 6, 0, 4, 4, 1, 1, 2, 9, 2, 4, 2, 1, 3, 4, 7,\n",
            "        4, 1, 8, 7, 7, 4, 2, 5]), tensor([0, 4, 6, 2, 2, 5, 2, 3, 8, 2, 1, 5, 3, 8, 8, 5, 5, 0, 1, 4, 1, 4, 9, 6,\n",
            "        3, 1, 1, 4, 7, 4, 3, 4]), tensor([7, 0, 6, 8, 4, 8, 4, 9, 4, 7, 5, 3, 3, 3, 4, 5, 7, 3, 7, 4, 4, 6, 9, 3,\n",
            "        0, 5, 4, 1, 2, 1, 8, 1]), tensor([7, 4, 4, 7, 9, 3, 3, 7, 3, 3, 6, 1, 6, 3, 4, 4, 3, 2, 7, 3, 3, 3, 4, 6,\n",
            "        0, 1, 3, 8, 4, 5, 7, 7]), tensor([4, 4, 3, 7, 5, 3, 4, 7, 7, 8, 8, 0, 7, 1, 6, 1, 4, 7, 3, 2, 7, 3, 3, 2,\n",
            "        7, 1, 2, 7, 9, 3, 7, 4]), tensor([4, 4, 3, 7, 4, 7, 3, 3, 7, 8, 8, 7, 2, 1, 3, 0, 9, 7, 5, 9, 1, 4, 3, 4,\n",
            "        5, 4, 3, 3, 1, 5, 5, 5]), tensor([8, 7, 3, 2, 3, 1, 4, 7, 5, 3, 4, 7, 8, 4, 7, 4, 3, 8, 3, 3, 1, 7, 5, 2,\n",
            "        9, 1, 4, 4, 7, 1, 0, 4]), tensor([3, 7, 3, 1, 4, 2, 5, 5, 5, 4, 1, 2, 9, 2, 3, 4, 3, 1, 4, 7, 3, 0, 7, 5,\n",
            "        8, 5, 5, 4, 6, 4, 5, 4]), tensor([3, 8, 3, 8, 3, 1, 2, 4, 8, 3, 0, 8, 4, 8, 5, 3, 4, 7, 4, 4, 4, 7, 4, 4,\n",
            "        4, 9, 7, 4, 7, 9, 4, 7]), tensor([3, 4, 3, 3, 9, 2, 7, 7, 8, 1, 1, 6, 6, 5, 7, 6, 4, 7, 6, 7, 6, 6, 6, 9,\n",
            "        7, 7, 7, 5, 0, 1, 2, 3]), tensor([4, 4, 4, 6, 5, 4, 7, 4, 4, 4, 4, 7, 7, 1, 4, 7, 9, 7, 2, 1, 7, 3, 4, 3,\n",
            "        4, 7, 7, 4, 3, 4, 8, 7]), tensor([2, 4, 3, 4, 4, 0, 9, 6, 2, 5, 0, 1, 2, 2, 1, 4, 2, 3, 8, 1, 7, 3, 7, 3,\n",
            "        8, 3, 5, 4, 1, 3, 2, 4]), tensor([4, 4, 8, 4, 2, 7, 7, 0, 4, 4, 9, 4, 3, 1, 2, 3, 4, 3, 3, 4, 7, 7, 3, 9,\n",
            "        4, 5, 4, 4, 9, 9, 4, 3]), tensor([5, 6, 9, 0, 4, 3, 2, 8, 3, 1, 5, 6, 3, 3, 7, 0, 8, 5, 6, 2, 6, 4, 1, 1,\n",
            "        7, 8, 8, 5, 0, 2, 3, 0]), tensor([5, 4, 5, 4, 8, 3, 6, 4, 4, 4, 1, 5, 0, 4, 3, 1, 9, 4, 8, 7, 8, 4, 3, 4,\n",
            "        4, 5, 4, 9, 0, 7, 1, 1]), tensor([7, 9, 6, 1, 4, 5, 5, 4, 2, 3, 3, 2, 3, 0, 3, 5, 9, 8, 4, 5, 2, 2, 5, 4,\n",
            "        5, 2, 3, 3, 2, 3, 5, 3]), tensor([7, 0, 4, 3, 5, 4, 4, 3, 4, 3, 5, 8, 8, 3, 4, 0, 3, 3, 7, 4, 2, 4, 1, 7,\n",
            "        4, 4, 9, 3, 6, 4, 6, 8]), tensor([7, 4, 5, 2, 4, 3, 1, 3, 0, 5, 5, 4, 3, 8, 6, 8, 2, 9, 2, 7, 3, 5, 4, 8,\n",
            "        2, 1, 8, 3, 4, 5, 5, 3]), tensor([3, 6, 4, 3, 7, 4, 4, 4, 3, 1, 4, 4, 3, 4, 7, 4, 3, 4, 8, 4, 8, 1, 7, 7,\n",
            "        0, 3, 3, 4, 1, 5, 9, 4]), tensor([2, 6, 7, 4, 1, 0, 5, 4, 4, 4, 4, 2, 4, 6, 7, 4, 5, 3, 7, 4, 5, 4, 8, 3,\n",
            "        9, 5, 2, 6, 4, 4, 3, 2]), tensor([4, 9, 2, 5, 6, 5, 6, 3, 1, 7, 8, 6, 4, 7, 3, 3, 8, 3, 3, 9, 2, 4, 5, 4,\n",
            "        9, 4, 3, 4, 8, 0, 1, 1]), tensor([7, 3, 8, 2, 1, 5, 5, 8, 4, 8, 4, 3, 5, 3, 4, 4, 5, 3, 4, 2, 9, 8, 6, 5,\n",
            "        5, 4, 4, 5, 4, 3, 0, 5]), tensor([3, 4, 2, 7, 4, 8, 3, 3, 1, 5, 4, 0, 3, 7, 7, 5, 4, 7, 3, 7, 3, 4, 3, 5,\n",
            "        4, 8, 7, 3, 9, 7, 5, 7]), tensor([7, 9, 3, 4, 4, 4, 3, 7, 3, 1, 0, 4, 3, 2, 8, 7, 4, 7, 7, 7, 7, 4, 3, 3,\n",
            "        4, 7, 2, 1, 4, 0, 3, 4]), tensor([5, 6, 5, 4, 9, 1, 1, 2, 4, 8, 9, 7, 7, 5, 8, 6, 1, 4, 0, 1, 8, 4, 3, 4,\n",
            "        7, 5, 3, 7, 5, 5, 3, 9]), tensor([1, 2, 3, 2, 7, 4, 6, 9, 3, 4, 2, 3, 7, 8, 1, 3, 5, 5, 2, 2, 5, 5, 3, 8,\n",
            "        8, 2, 8, 5, 7, 6, 7, 2]), tensor([9, 6, 5, 4, 5, 4, 8, 5, 3, 6, 3, 4, 4, 4, 7, 4, 1, 5, 7, 8, 5, 7, 0, 4,\n",
            "        4, 2, 1, 3, 8, 3, 3, 4]), tensor([7, 7, 9, 1, 0, 4, 4, 7, 4, 4, 3, 1, 8, 4, 7, 4, 5, 7, 3, 1, 5, 4, 7, 2,\n",
            "        5, 6, 4, 4, 1, 4, 4, 4]), tensor([4, 4, 0, 4, 8, 4, 5, 1, 0, 4, 4, 4, 6, 4, 5, 5, 5, 7, 3, 5, 5, 5, 9, 7,\n",
            "        4, 2, 4, 2, 1, 3, 3, 4]), tensor([8, 9, 4, 0, 7, 3, 6, 4, 1, 6, 6, 1, 0, 5, 4, 9, 7, 2, 4, 5, 3, 7, 2, 3,\n",
            "        2, 3, 5, 4, 8, 5, 5, 0]), tensor([2, 3, 6, 1, 6, 4, 5, 0, 3, 5, 4, 4, 5, 4, 7, 8, 7, 3, 2, 7, 0, 5, 3, 3,\n",
            "        7, 3, 4, 3, 4, 3, 7, 7]), tensor([2, 2, 7, 3, 8, 1, 4, 2, 3, 7, 8, 4, 6, 4, 5, 4, 2, 5, 3, 5, 8, 0, 1, 9,\n",
            "        2, 7, 3, 7, 4, 4, 2, 6]), tensor([4, 4, 3, 3, 6, 7, 0, 5, 5, 8, 3, 3, 7, 9, 5, 4, 8, 8, 3, 1, 4, 4, 0, 4,\n",
            "        8, 3, 4, 3, 3, 3, 2, 7]), tensor([8, 7, 0, 4, 3, 4, 4, 5, 5, 9, 4, 5, 2, 4, 5, 3, 3, 7, 6, 7, 6, 6, 6, 3,\n",
            "        5, 1, 1, 2, 3, 6, 9, 8]), tensor([3, 6, 1, 6, 4, 5, 4, 6, 4, 0, 4, 7, 3, 4, 7, 4, 7, 6, 2, 8, 4, 4, 4, 3,\n",
            "        4, 7, 5, 2, 4, 7, 2, 9]), tensor([5, 9, 2, 1, 3, 4, 1, 9, 7, 1, 7, 3, 5, 8, 7, 2, 9, 3, 5, 3, 0, 3, 2, 3,\n",
            "        4, 4, 4, 8, 2, 3, 2, 4]), tensor([3, 5, 4, 2, 3, 2, 5, 4, 8, 3, 1, 4, 7, 2, 4, 4, 0, 4, 7, 8, 1, 4, 9, 2,\n",
            "        2, 8, 1, 4, 8, 8, 3, 2]), tensor([2, 7, 7, 5, 4, 7, 7, 6, 1, 2, 1, 7, 7, 0, 3, 3, 2, 5, 5, 3, 8, 7, 6, 2,\n",
            "        9, 5, 1, 7, 2, 1, 5, 2]), tensor([0, 3, 3, 4, 5, 1, 3, 4, 4, 5, 5, 0, 2, 7, 3, 3, 7, 8, 8, 2, 5, 6, 9, 7,\n",
            "        3, 2, 5, 3, 0, 5, 5, 6]), tensor([9, 1, 4, 2, 5, 2, 4, 1, 4, 0, 3, 3, 6, 3, 6, 8, 4, 7, 5, 5, 7, 0, 7, 9,\n",
            "        4, 4, 2, 9, 2, 7, 1, 8]), tensor([4, 8, 5, 4, 3, 8, 5, 3, 4, 0, 4, 1, 8, 4, 4, 3, 6, 7, 5, 3, 1, 5, 1, 3,\n",
            "        5, 3, 4, 4, 1, 7, 3, 3]), tensor([8, 2, 5, 3, 9, 6, 3, 4, 1, 2, 3, 3, 5, 1, 4, 5, 5, 3, 3, 3, 3, 7, 7, 4,\n",
            "        5, 3, 9, 3, 0, 3, 8, 1]), tensor([3, 0, 7, 5, 8, 4, 5, 6, 8, 9, 1, 7, 3, 6, 1, 4])]\n"
          ]
        },
        {
          "output_type": "execute_result",
          "data": {
            "text/plain": [
              "tensor([5, 2, 1, 1, 6, 1, 4, 4, 5, 7])"
            ]
          },
          "metadata": {},
          "execution_count": 78
        }
      ]
    },
    {
      "cell_type": "code",
      "source": [
        "import mlxtend"
      ],
      "metadata": {
        "id": "qs2tLN6BQPHP"
      },
      "execution_count": null,
      "outputs": []
    },
    {
      "cell_type": "code",
      "source": [
        "mlxtend.__version__"
      ],
      "metadata": {
        "colab": {
          "base_uri": "https://localhost:8080/",
          "height": 36
        },
        "id": "DNkLy76fQWOH",
        "outputId": "8a6eb8cc-a1ed-4557-8768-c5b60df964ab"
      },
      "execution_count": null,
      "outputs": [
        {
          "output_type": "execute_result",
          "data": {
            "text/plain": [
              "'0.23.4'"
            ],
            "application/vnd.google.colaboratory.intrinsic+json": {
              "type": "string"
            }
          },
          "metadata": {},
          "execution_count": 80
        }
      ]
    },
    {
      "cell_type": "code",
      "source": [
        "!pip install torchmetrics"
      ],
      "metadata": {
        "colab": {
          "base_uri": "https://localhost:8080/"
        },
        "id": "X_TiSIMHQg2V",
        "outputId": "ef4215c5-017b-4743-b1da-c6e68e521b03"
      },
      "execution_count": null,
      "outputs": [
        {
          "output_type": "stream",
          "name": "stdout",
          "text": [
            "Collecting torchmetrics\n",
            "  Downloading torchmetrics-1.7.1-py3-none-any.whl.metadata (21 kB)\n",
            "Requirement already satisfied: numpy>1.20.0 in /usr/local/lib/python3.11/dist-packages (from torchmetrics) (2.0.2)\n",
            "Requirement already satisfied: packaging>17.1 in /usr/local/lib/python3.11/dist-packages (from torchmetrics) (24.2)\n",
            "Requirement already satisfied: torch>=2.0.0 in /usr/local/lib/python3.11/dist-packages (from torchmetrics) (2.6.0+cu124)\n",
            "Collecting lightning-utilities>=0.8.0 (from torchmetrics)\n",
            "  Downloading lightning_utilities-0.14.3-py3-none-any.whl.metadata (5.6 kB)\n",
            "Requirement already satisfied: setuptools in /usr/local/lib/python3.11/dist-packages (from lightning-utilities>=0.8.0->torchmetrics) (75.2.0)\n",
            "Requirement already satisfied: typing_extensions in /usr/local/lib/python3.11/dist-packages (from lightning-utilities>=0.8.0->torchmetrics) (4.13.2)\n",
            "Requirement already satisfied: filelock in /usr/local/lib/python3.11/dist-packages (from torch>=2.0.0->torchmetrics) (3.18.0)\n",
            "Requirement already satisfied: networkx in /usr/local/lib/python3.11/dist-packages (from torch>=2.0.0->torchmetrics) (3.4.2)\n",
            "Requirement already satisfied: jinja2 in /usr/local/lib/python3.11/dist-packages (from torch>=2.0.0->torchmetrics) (3.1.6)\n",
            "Requirement already satisfied: fsspec in /usr/local/lib/python3.11/dist-packages (from torch>=2.0.0->torchmetrics) (2025.3.2)\n",
            "Collecting nvidia-cuda-nvrtc-cu12==12.4.127 (from torch>=2.0.0->torchmetrics)\n",
            "  Downloading nvidia_cuda_nvrtc_cu12-12.4.127-py3-none-manylinux2014_x86_64.whl.metadata (1.5 kB)\n",
            "Collecting nvidia-cuda-runtime-cu12==12.4.127 (from torch>=2.0.0->torchmetrics)\n",
            "  Downloading nvidia_cuda_runtime_cu12-12.4.127-py3-none-manylinux2014_x86_64.whl.metadata (1.5 kB)\n",
            "Collecting nvidia-cuda-cupti-cu12==12.4.127 (from torch>=2.0.0->torchmetrics)\n",
            "  Downloading nvidia_cuda_cupti_cu12-12.4.127-py3-none-manylinux2014_x86_64.whl.metadata (1.6 kB)\n",
            "Collecting nvidia-cudnn-cu12==9.1.0.70 (from torch>=2.0.0->torchmetrics)\n",
            "  Downloading nvidia_cudnn_cu12-9.1.0.70-py3-none-manylinux2014_x86_64.whl.metadata (1.6 kB)\n",
            "Collecting nvidia-cublas-cu12==12.4.5.8 (from torch>=2.0.0->torchmetrics)\n",
            "  Downloading nvidia_cublas_cu12-12.4.5.8-py3-none-manylinux2014_x86_64.whl.metadata (1.5 kB)\n",
            "Collecting nvidia-cufft-cu12==11.2.1.3 (from torch>=2.0.0->torchmetrics)\n",
            "  Downloading nvidia_cufft_cu12-11.2.1.3-py3-none-manylinux2014_x86_64.whl.metadata (1.5 kB)\n",
            "Collecting nvidia-curand-cu12==10.3.5.147 (from torch>=2.0.0->torchmetrics)\n",
            "  Downloading nvidia_curand_cu12-10.3.5.147-py3-none-manylinux2014_x86_64.whl.metadata (1.5 kB)\n",
            "Collecting nvidia-cusolver-cu12==11.6.1.9 (from torch>=2.0.0->torchmetrics)\n",
            "  Downloading nvidia_cusolver_cu12-11.6.1.9-py3-none-manylinux2014_x86_64.whl.metadata (1.6 kB)\n",
            "Collecting nvidia-cusparse-cu12==12.3.1.170 (from torch>=2.0.0->torchmetrics)\n",
            "  Downloading nvidia_cusparse_cu12-12.3.1.170-py3-none-manylinux2014_x86_64.whl.metadata (1.6 kB)\n",
            "Requirement already satisfied: nvidia-cusparselt-cu12==0.6.2 in /usr/local/lib/python3.11/dist-packages (from torch>=2.0.0->torchmetrics) (0.6.2)\n",
            "Requirement already satisfied: nvidia-nccl-cu12==2.21.5 in /usr/local/lib/python3.11/dist-packages (from torch>=2.0.0->torchmetrics) (2.21.5)\n",
            "Requirement already satisfied: nvidia-nvtx-cu12==12.4.127 in /usr/local/lib/python3.11/dist-packages (from torch>=2.0.0->torchmetrics) (12.4.127)\n",
            "Collecting nvidia-nvjitlink-cu12==12.4.127 (from torch>=2.0.0->torchmetrics)\n",
            "  Downloading nvidia_nvjitlink_cu12-12.4.127-py3-none-manylinux2014_x86_64.whl.metadata (1.5 kB)\n",
            "Requirement already satisfied: triton==3.2.0 in /usr/local/lib/python3.11/dist-packages (from torch>=2.0.0->torchmetrics) (3.2.0)\n",
            "Requirement already satisfied: sympy==1.13.1 in /usr/local/lib/python3.11/dist-packages (from torch>=2.0.0->torchmetrics) (1.13.1)\n",
            "Requirement already satisfied: mpmath<1.4,>=1.1.0 in /usr/local/lib/python3.11/dist-packages (from sympy==1.13.1->torch>=2.0.0->torchmetrics) (1.3.0)\n",
            "Requirement already satisfied: MarkupSafe>=2.0 in /usr/local/lib/python3.11/dist-packages (from jinja2->torch>=2.0.0->torchmetrics) (3.0.2)\n",
            "Downloading torchmetrics-1.7.1-py3-none-any.whl (961 kB)\n",
            "\u001b[2K   \u001b[90m━━━━━━━━━━━━━━━━━━━━━━━━━━━━━━━━━━━━━━━━\u001b[0m \u001b[32m961.5/961.5 kB\u001b[0m \u001b[31m13.8 MB/s\u001b[0m eta \u001b[36m0:00:00\u001b[0m\n",
            "\u001b[?25hDownloading lightning_utilities-0.14.3-py3-none-any.whl (28 kB)\n",
            "Downloading nvidia_cublas_cu12-12.4.5.8-py3-none-manylinux2014_x86_64.whl (363.4 MB)\n",
            "\u001b[2K   \u001b[90m━━━━━━━━━━━━━━━━━━━━━━━━━━━━━━━━━━━━━━━━\u001b[0m \u001b[32m363.4/363.4 MB\u001b[0m \u001b[31m1.4 MB/s\u001b[0m eta \u001b[36m0:00:00\u001b[0m\n",
            "\u001b[?25hDownloading nvidia_cuda_cupti_cu12-12.4.127-py3-none-manylinux2014_x86_64.whl (13.8 MB)\n",
            "\u001b[2K   \u001b[90m━━━━━━━━━━━━━━━━━━━━━━━━━━━━━━━━━━━━━━━━\u001b[0m \u001b[32m13.8/13.8 MB\u001b[0m \u001b[31m64.0 MB/s\u001b[0m eta \u001b[36m0:00:00\u001b[0m\n",
            "\u001b[?25hDownloading nvidia_cuda_nvrtc_cu12-12.4.127-py3-none-manylinux2014_x86_64.whl (24.6 MB)\n",
            "\u001b[2K   \u001b[90m━━━━━━━━━━━━━━━━━━━━━━━━━━━━━━━━━━━━━━━━\u001b[0m \u001b[32m24.6/24.6 MB\u001b[0m \u001b[31m72.9 MB/s\u001b[0m eta \u001b[36m0:00:00\u001b[0m\n",
            "\u001b[?25hDownloading nvidia_cuda_runtime_cu12-12.4.127-py3-none-manylinux2014_x86_64.whl (883 kB)\n",
            "\u001b[2K   \u001b[90m━━━━━━━━━━━━━━━━━━━━━━━━━━━━━━━━━━━━━━━━\u001b[0m \u001b[32m883.7/883.7 kB\u001b[0m \u001b[31m32.0 MB/s\u001b[0m eta \u001b[36m0:00:00\u001b[0m\n",
            "\u001b[?25hDownloading nvidia_cudnn_cu12-9.1.0.70-py3-none-manylinux2014_x86_64.whl (664.8 MB)\n",
            "\u001b[2K   \u001b[90m━━━━━━━━━━━━━━━━━━━━━━━━━━━━━━━━━━━━━━━━\u001b[0m \u001b[32m664.8/664.8 MB\u001b[0m \u001b[31m2.5 MB/s\u001b[0m eta \u001b[36m0:00:00\u001b[0m\n",
            "\u001b[?25hDownloading nvidia_cufft_cu12-11.2.1.3-py3-none-manylinux2014_x86_64.whl (211.5 MB)\n",
            "\u001b[2K   \u001b[90m━━━━━━━━━━━━━━━━━━━━━━━━━━━━━━━━━━━━━━━━\u001b[0m \u001b[32m211.5/211.5 MB\u001b[0m \u001b[31m1.5 MB/s\u001b[0m eta \u001b[36m0:00:00\u001b[0m\n",
            "\u001b[?25hDownloading nvidia_curand_cu12-10.3.5.147-py3-none-manylinux2014_x86_64.whl (56.3 MB)\n",
            "\u001b[2K   \u001b[90m━━━━━━━━━━━━━━━━━━━━━━━━━━━━━━━━━━━━━━━━\u001b[0m \u001b[32m56.3/56.3 MB\u001b[0m \u001b[31m12.6 MB/s\u001b[0m eta \u001b[36m0:00:00\u001b[0m\n",
            "\u001b[?25hDownloading nvidia_cusolver_cu12-11.6.1.9-py3-none-manylinux2014_x86_64.whl (127.9 MB)\n",
            "\u001b[2K   \u001b[90m━━━━━━━━━━━━━━━━━━━━━━━━━━━━━━━━━━━━━━━━\u001b[0m \u001b[32m127.9/127.9 MB\u001b[0m \u001b[31m7.9 MB/s\u001b[0m eta \u001b[36m0:00:00\u001b[0m\n",
            "\u001b[?25hDownloading nvidia_cusparse_cu12-12.3.1.170-py3-none-manylinux2014_x86_64.whl (207.5 MB)\n",
            "\u001b[2K   \u001b[90m━━━━━━━━━━━━━━━━━━━━━━━━━━━━━━━━━━━━━━━━\u001b[0m \u001b[32m207.5/207.5 MB\u001b[0m \u001b[31m4.4 MB/s\u001b[0m eta \u001b[36m0:00:00\u001b[0m\n",
            "\u001b[?25hDownloading nvidia_nvjitlink_cu12-12.4.127-py3-none-manylinux2014_x86_64.whl (21.1 MB)\n",
            "\u001b[2K   \u001b[90m━━━━━━━━━━━━━━━━━━━━━━━━━━━━━━━━━━━━━━━━\u001b[0m \u001b[32m21.1/21.1 MB\u001b[0m \u001b[31m86.6 MB/s\u001b[0m eta \u001b[36m0:00:00\u001b[0m\n",
            "\u001b[?25hInstalling collected packages: nvidia-nvjitlink-cu12, nvidia-curand-cu12, nvidia-cufft-cu12, nvidia-cuda-runtime-cu12, nvidia-cuda-nvrtc-cu12, nvidia-cuda-cupti-cu12, nvidia-cublas-cu12, lightning-utilities, nvidia-cusparse-cu12, nvidia-cudnn-cu12, nvidia-cusolver-cu12, torchmetrics\n",
            "  Attempting uninstall: nvidia-nvjitlink-cu12\n",
            "    Found existing installation: nvidia-nvjitlink-cu12 12.5.82\n",
            "    Uninstalling nvidia-nvjitlink-cu12-12.5.82:\n",
            "      Successfully uninstalled nvidia-nvjitlink-cu12-12.5.82\n",
            "  Attempting uninstall: nvidia-curand-cu12\n",
            "    Found existing installation: nvidia-curand-cu12 10.3.6.82\n",
            "    Uninstalling nvidia-curand-cu12-10.3.6.82:\n",
            "      Successfully uninstalled nvidia-curand-cu12-10.3.6.82\n",
            "  Attempting uninstall: nvidia-cufft-cu12\n",
            "    Found existing installation: nvidia-cufft-cu12 11.2.3.61\n",
            "    Uninstalling nvidia-cufft-cu12-11.2.3.61:\n",
            "      Successfully uninstalled nvidia-cufft-cu12-11.2.3.61\n",
            "  Attempting uninstall: nvidia-cuda-runtime-cu12\n",
            "    Found existing installation: nvidia-cuda-runtime-cu12 12.5.82\n",
            "    Uninstalling nvidia-cuda-runtime-cu12-12.5.82:\n",
            "      Successfully uninstalled nvidia-cuda-runtime-cu12-12.5.82\n",
            "  Attempting uninstall: nvidia-cuda-nvrtc-cu12\n",
            "    Found existing installation: nvidia-cuda-nvrtc-cu12 12.5.82\n",
            "    Uninstalling nvidia-cuda-nvrtc-cu12-12.5.82:\n",
            "      Successfully uninstalled nvidia-cuda-nvrtc-cu12-12.5.82\n",
            "  Attempting uninstall: nvidia-cuda-cupti-cu12\n",
            "    Found existing installation: nvidia-cuda-cupti-cu12 12.5.82\n",
            "    Uninstalling nvidia-cuda-cupti-cu12-12.5.82:\n",
            "      Successfully uninstalled nvidia-cuda-cupti-cu12-12.5.82\n",
            "  Attempting uninstall: nvidia-cublas-cu12\n",
            "    Found existing installation: nvidia-cublas-cu12 12.5.3.2\n",
            "    Uninstalling nvidia-cublas-cu12-12.5.3.2:\n",
            "      Successfully uninstalled nvidia-cublas-cu12-12.5.3.2\n",
            "  Attempting uninstall: nvidia-cusparse-cu12\n",
            "    Found existing installation: nvidia-cusparse-cu12 12.5.1.3\n",
            "    Uninstalling nvidia-cusparse-cu12-12.5.1.3:\n",
            "      Successfully uninstalled nvidia-cusparse-cu12-12.5.1.3\n",
            "  Attempting uninstall: nvidia-cudnn-cu12\n",
            "    Found existing installation: nvidia-cudnn-cu12 9.3.0.75\n",
            "    Uninstalling nvidia-cudnn-cu12-9.3.0.75:\n",
            "      Successfully uninstalled nvidia-cudnn-cu12-9.3.0.75\n",
            "  Attempting uninstall: nvidia-cusolver-cu12\n",
            "    Found existing installation: nvidia-cusolver-cu12 11.6.3.83\n",
            "    Uninstalling nvidia-cusolver-cu12-11.6.3.83:\n",
            "      Successfully uninstalled nvidia-cusolver-cu12-11.6.3.83\n",
            "Successfully installed lightning-utilities-0.14.3 nvidia-cublas-cu12-12.4.5.8 nvidia-cuda-cupti-cu12-12.4.127 nvidia-cuda-nvrtc-cu12-12.4.127 nvidia-cuda-runtime-cu12-12.4.127 nvidia-cudnn-cu12-9.1.0.70 nvidia-cufft-cu12-11.2.1.3 nvidia-curand-cu12-10.3.5.147 nvidia-cusolver-cu12-11.6.1.9 nvidia-cusparse-cu12-12.3.1.170 nvidia-nvjitlink-cu12-12.4.127 torchmetrics-1.7.1\n"
          ]
        }
      ]
    },
    {
      "cell_type": "code",
      "source": [
        "import torchmetrics"
      ],
      "metadata": {
        "id": "1GvGgpPtQYAn"
      },
      "execution_count": null,
      "outputs": []
    },
    {
      "cell_type": "code",
      "source": [
        "test_data.targets"
      ],
      "metadata": {
        "colab": {
          "base_uri": "https://localhost:8080/"
        },
        "id": "cSdp6lWeRqKi",
        "outputId": "979648b2-c265-4448-94da-ca8ac73dfa17"
      },
      "execution_count": null,
      "outputs": [
        {
          "output_type": "execute_result",
          "data": {
            "text/plain": [
              "tensor([9, 2, 1,  ..., 8, 1, 5])"
            ]
          },
          "metadata": {},
          "execution_count": 85
        }
      ]
    },
    {
      "cell_type": "code",
      "source": [
        "class_names"
      ],
      "metadata": {
        "id": "akUcukPIR5mY",
        "outputId": "348d08fc-95ab-46fd-fa3b-ed9a3da3b30f",
        "colab": {
          "base_uri": "https://localhost:8080/"
        }
      },
      "execution_count": null,
      "outputs": [
        {
          "output_type": "execute_result",
          "data": {
            "text/plain": [
              "['T-shirt/top',\n",
              " 'Trouser',\n",
              " 'Pullover',\n",
              " 'Dress',\n",
              " 'Coat',\n",
              " 'Sandal',\n",
              " 'Shirt',\n",
              " 'Sneaker',\n",
              " 'Bag',\n",
              " 'Ankle boot']"
            ]
          },
          "metadata": {},
          "execution_count": 86
        }
      ]
    },
    {
      "cell_type": "code",
      "source": [
        "from torchmetrics import ConfusionMatrix\n",
        "from mlxtend.plotting import plot_confusion_matrix\n",
        "\n",
        "# 1. Setup confusion matrix instance and compare between predictions and targets (labels)\n",
        "confmat = ConfusionMatrix(num_classes=len(class_names),\n",
        "                          task=\"MULTICLASS\")\n",
        "confmat_tensor = confmat(preds=y_pred_tensor,\n",
        "                         target=test_data.targets)\n",
        "\n",
        "# Plot the confusion matrix\n",
        "fig, ax = plot_confusion_matrix(\n",
        "    conf_mat=confmat_tensor.numpy(),\n",
        "    class_names=class_names,\n",
        "    figsize=(10, 7)\n",
        ")"
      ],
      "metadata": {
        "colab": {
          "base_uri": "https://localhost:8080/",
          "height": 667
        },
        "id": "5ZLvveDXRHqc",
        "outputId": "aabecffc-92ff-487d-88b2-6540997a3de5"
      },
      "execution_count": null,
      "outputs": [
        {
          "output_type": "display_data",
          "data": {
            "text/plain": [
              "<Figure size 1000x700 with 1 Axes>"
            ],
            "image/png": "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\n"
          },
          "metadata": {}
        }
      ]
    }
  ]
}
